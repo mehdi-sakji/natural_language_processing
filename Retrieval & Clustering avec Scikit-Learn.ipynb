{
 "cells": [
  {
   "cell_type": "markdown",
   "metadata": {},
   "source": [
    "# Clustering & Retrieval"
   ]
  },
  {
   "cell_type": "markdown",
   "metadata": {},
   "source": [
    "## Définition de données textuelles"
   ]
  },
  {
   "cell_type": "markdown",
   "metadata": {},
   "source": [
    "On définit manuellement 4 articles sur le Big Data..."
   ]
  },
  {
   "cell_type": "code",
   "execution_count": 3,
   "metadata": {},
   "outputs": [],
   "source": [
    "articles = {}\n",
    "articles[\"Big Data 1\"] = \"Littéralement, ces termes signifient mégadonnées, grosses données ou encore données massives. Ils désignent un ensemble très volumineux de données qu’aucun outil classique de gestion de base de données ou de gestion de l’information ne peut vraiment travailler. En effet, nous procréons environ 2,5 trillions d’octets de données tous les jours. Ce sont les informations provenant de partout : messages que nous nous envoyons, vidéos que nous publions, informations climatiques, signaux GPS, enregistrements transactionnels d’achats en ligne et bien d’autres encore. Ces données sont baptisées Big Data ou volumes massifs de données. Les géants du Web, au premier rang desquels Yahoo (mais aussi Facebook et Google), ont été les tous premiers à déployer ce type de technologie.\"\n",
    "articles[\"Big Data 2\"] = \"Face à l'explosion du volume d'informations, le Big Data vise à proposer une alternative aux solutions traditionnelles de bases de données et d'analyse (serveur SQL, plateforme de Business Intelligence...). Confrontés très tôt à des problématiques de très gros volumes, les géants du web, au premier rang desquels Yahoo (mais aussi Google et Facebook), ont été les premiers à déployer ce type de technologies. Selon le Gartner, le Big Data (en français mégadonnées ou Grandes données) regroupe une famille d'outils qui répondent à une triple problématiques : un Volume de données important à traiter, une grande Variété d'informations (en provenance de plusieurs sources, non-structurées, structurées, Opendata...), et un certain niveau de Vélocité à atteindre - c'est-à-dire de fréquence de création, collecte, traitement/analyse et partage de ces données. C'est la règle dite des 3V.\"\n",
    "articles[\"Big Data 3\"] = \"Inventé par les géants du web, le Big Data se présente comme une solution dessinée pour permettre à tout le monde d’accéder en temps réel à des bases de données géantes. Il vise à proposer un choix aux solutions classiques de bases de données et d’analyse (plate-forme de Business Intelligence en serveur SQL…). Selon le Gartner, ce concept regroupe une famille d’outils qui répondent à une triple problématique dite règle des 3V. Il s’agit notamment d’un Volume de données considérable à traiter, une grande Variété d’informations (venant de diverses sources, non-structurées, organisées, Open…), et un certain niveau de Vélocité à atteindre, autrement dit de fréquence de création, collecte et partage de ces données.\"\n",
    "articles[\"Big Data 4\"] = \"Les big data ou mégadonnées désignent l'ensemble des données numériques produites par l'utilisation des nouvelles technologies à des fins personnelles ou professionnelles. Cela recoupe les données d'entreprise (courriels, documents, bases de données, historiques de processeurs métiers...) aussi bien que des données issues de capteurs, des contenus publiés sur le web (images, vidéos, sons, textes), des transactions de commerce électronique, des échanges sur les réseaux sociaux, des données transmises par les objets connectés (étiquettes électroniques, compteurs intelligents, smartphones...), des données géolocalisées, etc.\""
   ]
  },
  {
   "cell_type": "markdown",
   "metadata": {},
   "source": [
    "... et 4 articles sur l'agilité Scrum"
   ]
  },
  {
   "cell_type": "code",
   "execution_count": 4,
   "metadata": {},
   "outputs": [],
   "source": [
    "articles[\"Agile Scrum 1\"] = \"Le terme Méthode est trop réducteur pour parler de cette façon d'aborder la gestion de projet. Il s'agit de bien plus qu'une méthode. On parle plutôt de paradigme agile, d'état d'esprit agile, de philosophie agile, de culture Agile ou encore d'approche agile, de mouvement agile, de courant agile, etc. En poursuivant votre lecture et en concentrant notamment votre attention sur le paragraphe Le Manifeste Agile, un changement culturel, vous comprendrez mieux cette dimension cruciale.\"\n",
    "articles[\"Agile Scrum 2\"] = \"Parler d’une « méthode » concernant Scrum n’est pas ce qu’il y a de plus approprié. Scrum ne se considère pas comme une méthode mais comme un cadre méthodologique. Une méthode dit généralement « comment » faire les choses. Scrum ne dit pas comment réussir son logiciel, comment surmonter les obstacles, comment développer, comment spécifier, etc. Il se contente d’offrir un cadre de gestion de projet Agile (et c’est déjà beaucoup) : des rôles, un rythme itératif, des réunions précises et limitées dans le temps, des artefacts (product backlog, sprint backlog, graphique d’avancement) et des règles du jeu.\"\n",
    "articles[\"Agile Scrum 3\"] = \"Les méthodes agiles sont une manière de réduire le cycle de développement des projets informatiques, de répondre plus rapidement aux évolutions des demandes de l’utilisateur final versatile. Les projets informatiques agiles sont gérés de manière adaptative, incrémentale et itérative. Aujourd’hui encore, dans le domaine des projets de développement logiciel, les méthodes agiles sont de plus en plus utilisées.  Comme leurs noms l’indiquent, ce sont des méthodes de gestion de projet dynamiques et réactives. Les méthodes agiles visent à intégrer au cours du projet de manière continue le client final, c’est à dire le plus souvent l’utilisateur final à qui le nouveau logiciel est destiné. Les méthodes agiles permettent une plus grande réactivité aux demandes du client.\"\n",
    "articles[\"Agile Scrum 4\"] = \"La méthode Agile se base sur un cycle de développement qui porte le client au centre. Le client est impliqué dans la réalisation du début à la fin du projet. Grâce à la méthode agile le demandeur obtient une meilleure visibilité de la gestion des travaux qu’avec une méthode classique. L’implication du client dans le processus permet à l’équipe d’obtenir un feedback régulier afin d’appliquer directement les changements nécessaires. Cette méthode vise à accélérer le développement d’un logiciel. De plus, elle assure la réalisation d’un logiciel fonctionnel tout au long de la durée de sa création. Le principe de base consiste à proposer une version minimale du logiciel puis à intégrer des fonctionnalités supplémentaires à cette base, par processus itératif. Le processus itératif regroupe une séquence d’instructions à répéter autant de fois que possible, selon le besoin\""
   ]
  },
  {
   "cell_type": "markdown",
   "metadata": {},
   "source": [
    "## Imports de librairies"
   ]
  },
  {
   "cell_type": "code",
   "execution_count": 5,
   "metadata": {},
   "outputs": [],
   "source": [
    "import time\n",
    "import re\n",
    "import json\n",
    "import string\n",
    "import unicodedata\n",
    "from html.parser import HTMLParser\n",
    "from nltk import word_tokenize\n",
    "from nltk.corpus import stopwords\n",
    "from nltk.stem.snowball import SnowballStemmer\n",
    "import langdetect\n",
    "from langdetect.lang_detect_exception import LangDetectException\n",
    "import enchant\n",
    "import difflib\n",
    "import pandas as pd\n",
    "import numpy as np\n",
    "import copy\n",
    "import yaml\n",
    "from sklearn.cluster import KMeans\n",
    "from sklearn.feature_extraction.text import TfidfVectorizer\n",
    "from sklearn.decomposition import PCA, TruncatedSVD"
   ]
  },
  {
   "cell_type": "markdown",
   "metadata": {},
   "source": [
    "## Data Preprocessing"
   ]
  },
  {
   "cell_type": "markdown",
   "metadata": {},
   "source": [
    "### Text Mining"
   ]
  },
  {
   "cell_type": "markdown",
   "metadata": {},
   "source": [
    "On commence par tout mettre au miniscule..."
   ]
  },
  {
   "cell_type": "code",
   "execution_count": 4,
   "metadata": {},
   "outputs": [],
   "source": [
    "for title in articles.keys():\n",
    "    articles[title] = articles[title].lower()"
   ]
  },
  {
   "cell_type": "code",
   "execution_count": 5,
   "metadata": {},
   "outputs": [
    {
     "data": {
      "text/plain": [
       "\"le terme méthode est trop réducteur pour parler de cette façon d'aborder la gestion de projet. il s'agit de bien plus qu'une méthode. on parle plutôt de paradigme agile, d'état d'esprit agile, de philosophie agile, de culture agile ou encore d'approche agile, de mouvement agile, de courant agile, etc. en poursuivant votre lecture et en concentrant notamment votre attention sur le paragraphe le manifeste agile, un changement culturel, vous comprendrez mieux cette dimension cruciale.\""
      ]
     },
     "execution_count": 5,
     "metadata": {},
     "output_type": "execute_result"
    }
   ],
   "source": [
    "articles[\"Agile Scrum 1\"]"
   ]
  },
  {
   "cell_type": "markdown",
   "metadata": {},
   "source": [
    "On détecte la langue de chaque texte..."
   ]
  },
  {
   "cell_type": "code",
   "execution_count": 6,
   "metadata": {},
   "outputs": [],
   "source": [
    "def decode_data(text):\n",
    "    return unicodedata.normalize('NFKD', text).encode('ascii', 'ignore').decode('utf8')"
   ]
  },
  {
   "cell_type": "code",
   "execution_count": 7,
   "metadata": {},
   "outputs": [],
   "source": [
    "for title in articles.keys():\n",
    "    articles[title] = decode_data(articles[title])"
   ]
  },
  {
   "cell_type": "code",
   "execution_count": 8,
   "metadata": {},
   "outputs": [
    {
     "name": "stdout",
     "output_type": "stream",
     "text": [
      "fr\n",
      "fr\n",
      "fr\n",
      "fr\n",
      "fr\n",
      "fr\n",
      "fr\n",
      "fr\n"
     ]
    }
   ],
   "source": [
    "for title in articles.keys():\n",
    "    print(langdetect.detect(articles[title]))"
   ]
  },
  {
   "cell_type": "markdown",
   "metadata": {},
   "source": [
    "En fonction des langues détectées, on enlève les stopwords dans chaque texte..."
   ]
  },
  {
   "cell_type": "code",
   "execution_count": 9,
   "metadata": {},
   "outputs": [],
   "source": [
    "def remove_stopwords(text, language):\n",
    "    \n",
    "    # load NLTK stopwords\n",
    "    list_stopwords = [decode_data(item.lower()) for item in stopwords.words(language)]\n",
    "    output = \" \".join([word for word in text.split() if word not in list_stopwords])\n",
    "    return output"
   ]
  },
  {
   "cell_type": "code",
   "execution_count": 12,
   "metadata": {},
   "outputs": [],
   "source": [
    "## Décommenter pour afficher les stopwords dans une langue donnée (essayer \"english\" en paramètre ou alors \"spanish\")\n",
    "#stopwords.words(\"french\")"
   ]
  },
  {
   "cell_type": "code",
   "execution_count": 13,
   "metadata": {},
   "outputs": [],
   "source": [
    "for title in articles.keys():\n",
    "    articles[title] = remove_stopwords(articles[title], \"french\")"
   ]
  },
  {
   "cell_type": "code",
   "execution_count": 14,
   "metadata": {},
   "outputs": [
    {
     "data": {
      "text/plain": [
       "\"Le terme Methode trop reducteur parler cette facon d'aborder gestion projet. Il s'agit bien plus qu'une methode. On parle plutot paradigme agile, d'etat d'esprit agile, philosophie agile, culture Agile encore d'approche agile, mouvement agile, courant agile, etc. En poursuivant lecture concentrant notamment attention paragraphe Le Manifeste Agile, changement culturel, comprendrez mieux cette dimension cruciale.\""
      ]
     },
     "execution_count": 14,
     "metadata": {},
     "output_type": "execute_result"
    }
   ],
   "source": [
    "articles[\"Agile Scrum 1\"]"
   ]
  },
  {
   "cell_type": "markdown",
   "metadata": {},
   "source": [
    "On enlève également les signes de ponctuations..."
   ]
  },
  {
   "cell_type": "code",
   "execution_count": 15,
   "metadata": {},
   "outputs": [],
   "source": [
    "def remove_punctuation(text):\n",
    "\n",
    "    punctuation_signs = string.punctuation\n",
    "    output =\" \".join(\n",
    "        [word for word in word_tokenize(text) if word not in punctuation_signs])\n",
    "    return output"
   ]
  },
  {
   "cell_type": "code",
   "execution_count": 16,
   "metadata": {},
   "outputs": [],
   "source": [
    "for title in articles.keys():\n",
    "    articles[title] = remove_punctuation(articles[title])"
   ]
  },
  {
   "cell_type": "code",
   "execution_count": 17,
   "metadata": {},
   "outputs": [
    {
     "data": {
      "text/plain": [
       "\"Le terme Methode trop reducteur parler cette facon d'aborder gestion projet Il s'agit bien plus qu'une methode On parle plutot paradigme agile d'etat d'esprit agile philosophie agile culture Agile encore d'approche agile mouvement agile courant agile etc En poursuivant lecture concentrant notamment attention paragraphe Le Manifeste Agile changement culturel comprendrez mieux cette dimension cruciale\""
      ]
     },
     "execution_count": 17,
     "metadata": {},
     "output_type": "execute_result"
    }
   ],
   "source": [
    "articles[\"Agile Scrum 1\"]"
   ]
  },
  {
   "cell_type": "markdown",
   "metadata": {},
   "source": [
    "Suite à cela, on applique la stemmification sur chaque token..."
   ]
  },
  {
   "cell_type": "code",
   "execution_count": 18,
   "metadata": {},
   "outputs": [],
   "source": [
    "def stem_text(text, language):\n",
    "    \n",
    "    tokens = text.split(' ')\n",
    "    stemmer = SnowballStemmer(language)\n",
    "    stemmed_words = []\n",
    "    for item in tokens:\n",
    "        stemmed_words.append(stemmer.stem(item))\n",
    "        output =  \" \".join(stemmed_words)\n",
    "    return output"
   ]
  },
  {
   "cell_type": "code",
   "execution_count": 19,
   "metadata": {},
   "outputs": [],
   "source": [
    "for title in articles.keys():\n",
    "    articles[title] = stem_text(articles[title], \"french\")"
   ]
  },
  {
   "cell_type": "code",
   "execution_count": 20,
   "metadata": {},
   "outputs": [
    {
     "data": {
      "text/plain": [
       "\"le term method trop reducteur parl cet facon d'abord gestion projet il s'ag bien plus qu'un method on parl plutot paradigm agil d'etat d'espr agil philosoph agil cultur agil encor d'approch agil mouv agil cour agil etc en poursuiv lectur concentr not attent paragraph le manifest agil chang culturel comprendr mieux cet dimens crucial\""
      ]
     },
     "execution_count": 20,
     "metadata": {},
     "output_type": "execute_result"
    }
   ],
   "source": [
    "articles[\"Agile Scrum 1\"]"
   ]
  },
  {
   "cell_type": "markdown",
   "metadata": {
    "collapsed": true
   },
   "source": [
    "### Numérisation de texte"
   ]
  },
  {
   "cell_type": "markdown",
   "metadata": {},
   "source": [
    "On organise les textes précédents dans un Pandas Dataframe..."
   ]
  },
  {
   "cell_type": "code",
   "execution_count": 21,
   "metadata": {},
   "outputs": [],
   "source": [
    "list_articles = []\n",
    "for title in articles.keys():\n",
    "    list_articles.append({\"title\": title, \"text\": articles[title]})"
   ]
  },
  {
   "cell_type": "code",
   "execution_count": 22,
   "metadata": {},
   "outputs": [],
   "source": [
    "corpus_df = pd.DataFrame(list_articles)"
   ]
  },
  {
   "cell_type": "code",
   "execution_count": 23,
   "metadata": {},
   "outputs": [
    {
     "data": {
      "text/html": [
       "<div>\n",
       "<style scoped>\n",
       "    .dataframe tbody tr th:only-of-type {\n",
       "        vertical-align: middle;\n",
       "    }\n",
       "\n",
       "    .dataframe tbody tr th {\n",
       "        vertical-align: top;\n",
       "    }\n",
       "\n",
       "    .dataframe thead th {\n",
       "        text-align: right;\n",
       "    }\n",
       "</style>\n",
       "<table border=\"1\" class=\"dataframe\">\n",
       "  <thead>\n",
       "    <tr style=\"text-align: right;\">\n",
       "      <th></th>\n",
       "      <th>text</th>\n",
       "      <th>title</th>\n",
       "    </tr>\n",
       "  </thead>\n",
       "  <tbody>\n",
       "    <tr>\n",
       "      <th>0</th>\n",
       "      <td>litteral term signifient megadonne gross donne...</td>\n",
       "      <td>Big Data 1</td>\n",
       "    </tr>\n",
       "    <tr>\n",
       "      <th>1</th>\n",
       "      <td>fac l'explos volum d'inform big dat vis propos...</td>\n",
       "      <td>Big Data 2</td>\n",
       "    </tr>\n",
       "    <tr>\n",
       "      <th>2</th>\n",
       "      <td>invent le ge web big dat present comm solut de...</td>\n",
       "      <td>Big Data 3</td>\n",
       "    </tr>\n",
       "    <tr>\n",
       "      <th>3</th>\n",
       "      <td>le big dat megadonne designent l'ensembl donne...</td>\n",
       "      <td>Big Data 4</td>\n",
       "    </tr>\n",
       "    <tr>\n",
       "      <th>4</th>\n",
       "      <td>le term method trop reducteur parl cet facon d...</td>\n",
       "      <td>Agile Scrum 1</td>\n",
       "    </tr>\n",
       "  </tbody>\n",
       "</table>\n",
       "</div>"
      ],
      "text/plain": [
       "                                                text          title\n",
       "0  litteral term signifient megadonne gross donne...     Big Data 1\n",
       "1  fac l'explos volum d'inform big dat vis propos...     Big Data 2\n",
       "2  invent le ge web big dat present comm solut de...     Big Data 3\n",
       "3  le big dat megadonne designent l'ensembl donne...     Big Data 4\n",
       "4  le term method trop reducteur parl cet facon d...  Agile Scrum 1"
      ]
     },
     "execution_count": 23,
     "metadata": {},
     "output_type": "execute_result"
    }
   ],
   "source": [
    "corpus_df.head()"
   ]
  },
  {
   "cell_type": "markdown",
   "metadata": {},
   "source": [
    "On numérise ensuite les textes grâce à TF-IDF..."
   ]
  },
  {
   "cell_type": "code",
   "execution_count": 24,
   "metadata": {},
   "outputs": [],
   "source": [
    "tokenizer = lambda doc: doc.split(\" \")\n",
    "tf_idf_model = TfidfVectorizer(min_df=0, use_idf=True, sublinear_tf=True, tokenizer=tokenizer)"
   ]
  },
  {
   "cell_type": "code",
   "execution_count": null,
   "metadata": {},
   "outputs": [],
   "source": [
    "tf_idf_features = tf_idf_model.fit_transform(corpus_df[\"text\"])"
   ]
  },
  {
   "cell_type": "code",
   "execution_count": 26,
   "metadata": {},
   "outputs": [
    {
     "data": {
      "text/plain": [
       "(8, 326)"
      ]
     },
     "execution_count": 26,
     "metadata": {},
     "output_type": "execute_result"
    }
   ],
   "source": [
    "tf_idf_features.shape"
   ]
  },
  {
   "cell_type": "markdown",
   "metadata": {
    "collapsed": true
   },
   "source": [
    "En sortie de TF-IDF, on a une dimensionnalité de 326, on réduit celle là grâce à l'algo PCA (avec dimensionnalité cible égale à 8) ..."
   ]
  },
  {
   "cell_type": "code",
   "execution_count": 27,
   "metadata": {},
   "outputs": [],
   "source": [
    "pca_model = TruncatedSVD(n_components = 8)"
   ]
  },
  {
   "cell_type": "code",
   "execution_count": 28,
   "metadata": {},
   "outputs": [],
   "source": [
    "pca_features = pd.DataFrame(pca_model.fit_transform(tf_idf_features))"
   ]
  },
  {
   "cell_type": "code",
   "execution_count": 29,
   "metadata": {},
   "outputs": [
    {
     "data": {
      "text/html": [
       "<div>\n",
       "<style scoped>\n",
       "    .dataframe tbody tr th:only-of-type {\n",
       "        vertical-align: middle;\n",
       "    }\n",
       "\n",
       "    .dataframe tbody tr th {\n",
       "        vertical-align: top;\n",
       "    }\n",
       "\n",
       "    .dataframe thead th {\n",
       "        text-align: right;\n",
       "    }\n",
       "</style>\n",
       "<table border=\"1\" class=\"dataframe\">\n",
       "  <thead>\n",
       "    <tr style=\"text-align: right;\">\n",
       "      <th></th>\n",
       "      <th>0</th>\n",
       "      <th>1</th>\n",
       "      <th>2</th>\n",
       "      <th>3</th>\n",
       "      <th>4</th>\n",
       "      <th>5</th>\n",
       "      <th>6</th>\n",
       "      <th>7</th>\n",
       "    </tr>\n",
       "  </thead>\n",
       "  <tbody>\n",
       "    <tr>\n",
       "      <th>0</th>\n",
       "      <td>0.512704</td>\n",
       "      <td>-0.209609</td>\n",
       "      <td>0.482888</td>\n",
       "      <td>-0.051667</td>\n",
       "      <td>-0.346826</td>\n",
       "      <td>-0.516894</td>\n",
       "      <td>-0.197897</td>\n",
       "      <td>-0.175264</td>\n",
       "    </tr>\n",
       "    <tr>\n",
       "      <th>1</th>\n",
       "      <td>0.725531</td>\n",
       "      <td>-0.390379</td>\n",
       "      <td>-0.204860</td>\n",
       "      <td>-0.114825</td>\n",
       "      <td>-0.114832</td>\n",
       "      <td>0.007503</td>\n",
       "      <td>0.099909</td>\n",
       "      <td>0.492780</td>\n",
       "    </tr>\n",
       "    <tr>\n",
       "      <th>2</th>\n",
       "      <td>0.683723</td>\n",
       "      <td>-0.281814</td>\n",
       "      <td>-0.448236</td>\n",
       "      <td>-0.019688</td>\n",
       "      <td>0.024163</td>\n",
       "      <td>0.231507</td>\n",
       "      <td>0.081814</td>\n",
       "      <td>-0.436952</td>\n",
       "    </tr>\n",
       "    <tr>\n",
       "      <th>3</th>\n",
       "      <td>0.397527</td>\n",
       "      <td>-0.183109</td>\n",
       "      <td>0.565014</td>\n",
       "      <td>0.286906</td>\n",
       "      <td>0.592710</td>\n",
       "      <td>0.222949</td>\n",
       "      <td>0.075900</td>\n",
       "      <td>0.010767</td>\n",
       "    </tr>\n",
       "    <tr>\n",
       "      <th>4</th>\n",
       "      <td>0.299396</td>\n",
       "      <td>0.496426</td>\n",
       "      <td>0.312801</td>\n",
       "      <td>-0.003380</td>\n",
       "      <td>-0.491381</td>\n",
       "      <td>0.568664</td>\n",
       "      <td>-0.030944</td>\n",
       "      <td>0.016604</td>\n",
       "    </tr>\n",
       "  </tbody>\n",
       "</table>\n",
       "</div>"
      ],
      "text/plain": [
       "          0         1         2         3         4         5         6  \\\n",
       "0  0.512704 -0.209609  0.482888 -0.051667 -0.346826 -0.516894 -0.197897   \n",
       "1  0.725531 -0.390379 -0.204860 -0.114825 -0.114832  0.007503  0.099909   \n",
       "2  0.683723 -0.281814 -0.448236 -0.019688  0.024163  0.231507  0.081814   \n",
       "3  0.397527 -0.183109  0.565014  0.286906  0.592710  0.222949  0.075900   \n",
       "4  0.299396  0.496426  0.312801 -0.003380 -0.491381  0.568664 -0.030944   \n",
       "\n",
       "          7  \n",
       "0 -0.175264  \n",
       "1  0.492780  \n",
       "2 -0.436952  \n",
       "3  0.010767  \n",
       "4  0.016604  "
      ]
     },
     "execution_count": 29,
     "metadata": {},
     "output_type": "execute_result"
    }
   ],
   "source": [
    "pca_features.head()"
   ]
  },
  {
   "cell_type": "markdown",
   "metadata": {},
   "source": [
    "On transforme un peu les données résultantes... pour les préparer au Clustering et à l'affichage..."
   ]
  },
  {
   "cell_type": "code",
   "execution_count": 30,
   "metadata": {},
   "outputs": [],
   "source": [
    "pca_features = pca_features.merge(corpus_df, right_index=True, left_index=True)"
   ]
  },
  {
   "cell_type": "code",
   "execution_count": 31,
   "metadata": {},
   "outputs": [],
   "source": [
    "pca_features.drop([\"text\"], axis=1, inplace=True)"
   ]
  },
  {
   "cell_type": "code",
   "execution_count": 32,
   "metadata": {},
   "outputs": [
    {
     "data": {
      "text/html": [
       "<div>\n",
       "<style scoped>\n",
       "    .dataframe tbody tr th:only-of-type {\n",
       "        vertical-align: middle;\n",
       "    }\n",
       "\n",
       "    .dataframe tbody tr th {\n",
       "        vertical-align: top;\n",
       "    }\n",
       "\n",
       "    .dataframe thead th {\n",
       "        text-align: right;\n",
       "    }\n",
       "</style>\n",
       "<table border=\"1\" class=\"dataframe\">\n",
       "  <thead>\n",
       "    <tr style=\"text-align: right;\">\n",
       "      <th></th>\n",
       "      <th>0</th>\n",
       "      <th>1</th>\n",
       "      <th>2</th>\n",
       "      <th>3</th>\n",
       "      <th>4</th>\n",
       "      <th>5</th>\n",
       "      <th>6</th>\n",
       "      <th>7</th>\n",
       "      <th>title</th>\n",
       "    </tr>\n",
       "  </thead>\n",
       "  <tbody>\n",
       "    <tr>\n",
       "      <th>0</th>\n",
       "      <td>0.512704</td>\n",
       "      <td>-0.209609</td>\n",
       "      <td>0.482888</td>\n",
       "      <td>-0.051667</td>\n",
       "      <td>-0.346826</td>\n",
       "      <td>-0.516894</td>\n",
       "      <td>-0.197897</td>\n",
       "      <td>-0.175264</td>\n",
       "      <td>Big Data 1</td>\n",
       "    </tr>\n",
       "    <tr>\n",
       "      <th>1</th>\n",
       "      <td>0.725531</td>\n",
       "      <td>-0.390379</td>\n",
       "      <td>-0.204860</td>\n",
       "      <td>-0.114825</td>\n",
       "      <td>-0.114832</td>\n",
       "      <td>0.007503</td>\n",
       "      <td>0.099909</td>\n",
       "      <td>0.492780</td>\n",
       "      <td>Big Data 2</td>\n",
       "    </tr>\n",
       "    <tr>\n",
       "      <th>2</th>\n",
       "      <td>0.683723</td>\n",
       "      <td>-0.281814</td>\n",
       "      <td>-0.448236</td>\n",
       "      <td>-0.019688</td>\n",
       "      <td>0.024163</td>\n",
       "      <td>0.231507</td>\n",
       "      <td>0.081814</td>\n",
       "      <td>-0.436952</td>\n",
       "      <td>Big Data 3</td>\n",
       "    </tr>\n",
       "    <tr>\n",
       "      <th>3</th>\n",
       "      <td>0.397527</td>\n",
       "      <td>-0.183109</td>\n",
       "      <td>0.565014</td>\n",
       "      <td>0.286906</td>\n",
       "      <td>0.592710</td>\n",
       "      <td>0.222949</td>\n",
       "      <td>0.075900</td>\n",
       "      <td>0.010767</td>\n",
       "      <td>Big Data 4</td>\n",
       "    </tr>\n",
       "    <tr>\n",
       "      <th>4</th>\n",
       "      <td>0.299396</td>\n",
       "      <td>0.496426</td>\n",
       "      <td>0.312801</td>\n",
       "      <td>-0.003380</td>\n",
       "      <td>-0.491381</td>\n",
       "      <td>0.568664</td>\n",
       "      <td>-0.030944</td>\n",
       "      <td>0.016604</td>\n",
       "      <td>Agile Scrum 1</td>\n",
       "    </tr>\n",
       "    <tr>\n",
       "      <th>5</th>\n",
       "      <td>0.301990</td>\n",
       "      <td>0.446347</td>\n",
       "      <td>-0.279158</td>\n",
       "      <td>0.743401</td>\n",
       "      <td>-0.024221</td>\n",
       "      <td>-0.198763</td>\n",
       "      <td>-0.187231</td>\n",
       "      <td>0.062077</td>\n",
       "      <td>Agile Scrum 2</td>\n",
       "    </tr>\n",
       "    <tr>\n",
       "      <th>6</th>\n",
       "      <td>0.303722</td>\n",
       "      <td>0.625171</td>\n",
       "      <td>0.027935</td>\n",
       "      <td>-0.173876</td>\n",
       "      <td>0.102250</td>\n",
       "      <td>-0.280127</td>\n",
       "      <td>0.629317</td>\n",
       "      <td>-0.030588</td>\n",
       "      <td>Agile Scrum 3</td>\n",
       "    </tr>\n",
       "    <tr>\n",
       "      <th>7</th>\n",
       "      <td>0.358229</td>\n",
       "      <td>0.510495</td>\n",
       "      <td>-0.097475</td>\n",
       "      <td>-0.450745</td>\n",
       "      <td>0.369515</td>\n",
       "      <td>-0.034881</td>\n",
       "      <td>-0.509354</td>\n",
       "      <td>0.034553</td>\n",
       "      <td>Agile Scrum 4</td>\n",
       "    </tr>\n",
       "  </tbody>\n",
       "</table>\n",
       "</div>"
      ],
      "text/plain": [
       "          0         1         2         3         4         5         6  \\\n",
       "0  0.512704 -0.209609  0.482888 -0.051667 -0.346826 -0.516894 -0.197897   \n",
       "1  0.725531 -0.390379 -0.204860 -0.114825 -0.114832  0.007503  0.099909   \n",
       "2  0.683723 -0.281814 -0.448236 -0.019688  0.024163  0.231507  0.081814   \n",
       "3  0.397527 -0.183109  0.565014  0.286906  0.592710  0.222949  0.075900   \n",
       "4  0.299396  0.496426  0.312801 -0.003380 -0.491381  0.568664 -0.030944   \n",
       "5  0.301990  0.446347 -0.279158  0.743401 -0.024221 -0.198763 -0.187231   \n",
       "6  0.303722  0.625171  0.027935 -0.173876  0.102250 -0.280127  0.629317   \n",
       "7  0.358229  0.510495 -0.097475 -0.450745  0.369515 -0.034881 -0.509354   \n",
       "\n",
       "          7          title  \n",
       "0 -0.175264     Big Data 1  \n",
       "1  0.492780     Big Data 2  \n",
       "2 -0.436952     Big Data 3  \n",
       "3  0.010767     Big Data 4  \n",
       "4  0.016604  Agile Scrum 1  \n",
       "5  0.062077  Agile Scrum 2  \n",
       "6 -0.030588  Agile Scrum 3  \n",
       "7  0.034553  Agile Scrum 4  "
      ]
     },
     "execution_count": 32,
     "metadata": {},
     "output_type": "execute_result"
    }
   ],
   "source": [
    "pca_features"
   ]
  },
  {
   "cell_type": "code",
   "execution_count": 33,
   "metadata": {},
   "outputs": [],
   "source": [
    "new_columns = {}\n",
    "for col_name in pca_features.columns:\n",
    "    if col_name!=\"title\":\n",
    "        new_columns[col_name] = \"pca_\" + str(col_name)\n",
    "pca_features.rename(columns=new_columns, inplace=True)"
   ]
  },
  {
   "cell_type": "code",
   "execution_count": 34,
   "metadata": {},
   "outputs": [
    {
     "data": {
      "text/html": [
       "<div>\n",
       "<style scoped>\n",
       "    .dataframe tbody tr th:only-of-type {\n",
       "        vertical-align: middle;\n",
       "    }\n",
       "\n",
       "    .dataframe tbody tr th {\n",
       "        vertical-align: top;\n",
       "    }\n",
       "\n",
       "    .dataframe thead th {\n",
       "        text-align: right;\n",
       "    }\n",
       "</style>\n",
       "<table border=\"1\" class=\"dataframe\">\n",
       "  <thead>\n",
       "    <tr style=\"text-align: right;\">\n",
       "      <th></th>\n",
       "      <th>pca_0</th>\n",
       "      <th>pca_1</th>\n",
       "      <th>pca_2</th>\n",
       "      <th>pca_3</th>\n",
       "      <th>pca_4</th>\n",
       "      <th>pca_5</th>\n",
       "      <th>pca_6</th>\n",
       "      <th>pca_7</th>\n",
       "      <th>title</th>\n",
       "    </tr>\n",
       "  </thead>\n",
       "  <tbody>\n",
       "    <tr>\n",
       "      <th>0</th>\n",
       "      <td>0.512704</td>\n",
       "      <td>-0.209609</td>\n",
       "      <td>0.482888</td>\n",
       "      <td>-0.051667</td>\n",
       "      <td>-0.346826</td>\n",
       "      <td>-0.516894</td>\n",
       "      <td>-0.197897</td>\n",
       "      <td>-0.175264</td>\n",
       "      <td>Big Data 1</td>\n",
       "    </tr>\n",
       "    <tr>\n",
       "      <th>1</th>\n",
       "      <td>0.725531</td>\n",
       "      <td>-0.390379</td>\n",
       "      <td>-0.204860</td>\n",
       "      <td>-0.114825</td>\n",
       "      <td>-0.114832</td>\n",
       "      <td>0.007503</td>\n",
       "      <td>0.099909</td>\n",
       "      <td>0.492780</td>\n",
       "      <td>Big Data 2</td>\n",
       "    </tr>\n",
       "    <tr>\n",
       "      <th>2</th>\n",
       "      <td>0.683723</td>\n",
       "      <td>-0.281814</td>\n",
       "      <td>-0.448236</td>\n",
       "      <td>-0.019688</td>\n",
       "      <td>0.024163</td>\n",
       "      <td>0.231507</td>\n",
       "      <td>0.081814</td>\n",
       "      <td>-0.436952</td>\n",
       "      <td>Big Data 3</td>\n",
       "    </tr>\n",
       "    <tr>\n",
       "      <th>3</th>\n",
       "      <td>0.397527</td>\n",
       "      <td>-0.183109</td>\n",
       "      <td>0.565014</td>\n",
       "      <td>0.286906</td>\n",
       "      <td>0.592710</td>\n",
       "      <td>0.222949</td>\n",
       "      <td>0.075900</td>\n",
       "      <td>0.010767</td>\n",
       "      <td>Big Data 4</td>\n",
       "    </tr>\n",
       "    <tr>\n",
       "      <th>4</th>\n",
       "      <td>0.299396</td>\n",
       "      <td>0.496426</td>\n",
       "      <td>0.312801</td>\n",
       "      <td>-0.003380</td>\n",
       "      <td>-0.491381</td>\n",
       "      <td>0.568664</td>\n",
       "      <td>-0.030944</td>\n",
       "      <td>0.016604</td>\n",
       "      <td>Agile Scrum 1</td>\n",
       "    </tr>\n",
       "  </tbody>\n",
       "</table>\n",
       "</div>"
      ],
      "text/plain": [
       "      pca_0     pca_1     pca_2     pca_3     pca_4     pca_5     pca_6  \\\n",
       "0  0.512704 -0.209609  0.482888 -0.051667 -0.346826 -0.516894 -0.197897   \n",
       "1  0.725531 -0.390379 -0.204860 -0.114825 -0.114832  0.007503  0.099909   \n",
       "2  0.683723 -0.281814 -0.448236 -0.019688  0.024163  0.231507  0.081814   \n",
       "3  0.397527 -0.183109  0.565014  0.286906  0.592710  0.222949  0.075900   \n",
       "4  0.299396  0.496426  0.312801 -0.003380 -0.491381  0.568664 -0.030944   \n",
       "\n",
       "      pca_7          title  \n",
       "0 -0.175264     Big Data 1  \n",
       "1  0.492780     Big Data 2  \n",
       "2 -0.436952     Big Data 3  \n",
       "3  0.010767     Big Data 4  \n",
       "4  0.016604  Agile Scrum 1  "
      ]
     },
     "execution_count": 34,
     "metadata": {},
     "output_type": "execute_result"
    }
   ],
   "source": [
    "pca_features.head()"
   ]
  },
  {
   "cell_type": "code",
   "execution_count": 35,
   "metadata": {},
   "outputs": [],
   "source": [
    "pca_features.drop([\"title\"], axis=1, inplace=True)"
   ]
  },
  {
   "cell_type": "markdown",
   "metadata": {},
   "source": [
    "## Clustering & Retrieval"
   ]
  },
  {
   "cell_type": "markdown",
   "metadata": {},
   "source": [
    "### Clustering avec Kmeans"
   ]
  },
  {
   "cell_type": "markdown",
   "metadata": {},
   "source": [
    "Grâce à l'algo K-means, on va essayer de former 2 clusters ou thèmes (K=2) de textes..."
   ]
  },
  {
   "cell_type": "code",
   "execution_count": 37,
   "metadata": {},
   "outputs": [
    {
     "name": "stderr",
     "output_type": "stream",
     "text": [
      "/home/bestprojectever/anaconda3/lib/python3.7/site-packages/ipykernel_launcher.py:1: FutureWarning: Method .as_matrix will be removed in a future version. Use .values instead.\n",
      "  \"\"\"Entry point for launching an IPython kernel.\n"
     ]
    }
   ],
   "source": [
    "x = pca_features.as_matrix()\n",
    "kmeans_model = KMeans(n_clusters=2, random_state=172, init=\"k-means++\")"
   ]
  },
  {
   "cell_type": "code",
   "execution_count": 38,
   "metadata": {},
   "outputs": [],
   "source": [
    "predicted_clusters = kmeans_model.fit_predict(x)"
   ]
  },
  {
   "cell_type": "markdown",
   "metadata": {},
   "source": [
    "Une fois les clusters prédits, on merge cette info avec le Dataframe précédent de coefficients PCA ..."
   ]
  },
  {
   "cell_type": "code",
   "execution_count": 40,
   "metadata": {},
   "outputs": [],
   "source": [
    "clustered_data = pca_features.merge(\n",
    "    pd.DataFrame(predicted_clusters, columns=[\"cluster\"]), right_index=True, left_index=True)"
   ]
  },
  {
   "cell_type": "code",
   "execution_count": 41,
   "metadata": {},
   "outputs": [],
   "source": [
    "clustered_data = clustered_data.merge(corpus_df, right_index=True, left_index=True)\n",
    "clustered_data.drop([\"text\"], axis=1, inplace=True)"
   ]
  },
  {
   "cell_type": "code",
   "execution_count": 42,
   "metadata": {},
   "outputs": [
    {
     "data": {
      "text/html": [
       "<div>\n",
       "<style scoped>\n",
       "    .dataframe tbody tr th:only-of-type {\n",
       "        vertical-align: middle;\n",
       "    }\n",
       "\n",
       "    .dataframe tbody tr th {\n",
       "        vertical-align: top;\n",
       "    }\n",
       "\n",
       "    .dataframe thead th {\n",
       "        text-align: right;\n",
       "    }\n",
       "</style>\n",
       "<table border=\"1\" class=\"dataframe\">\n",
       "  <thead>\n",
       "    <tr style=\"text-align: right;\">\n",
       "      <th></th>\n",
       "      <th>pca_0</th>\n",
       "      <th>pca_1</th>\n",
       "      <th>pca_2</th>\n",
       "      <th>pca_3</th>\n",
       "      <th>pca_4</th>\n",
       "      <th>pca_5</th>\n",
       "      <th>pca_6</th>\n",
       "      <th>pca_7</th>\n",
       "      <th>cluster</th>\n",
       "      <th>title</th>\n",
       "    </tr>\n",
       "  </thead>\n",
       "  <tbody>\n",
       "    <tr>\n",
       "      <th>0</th>\n",
       "      <td>0.512704</td>\n",
       "      <td>-0.209609</td>\n",
       "      <td>0.482888</td>\n",
       "      <td>-0.051667</td>\n",
       "      <td>-0.346826</td>\n",
       "      <td>-0.516894</td>\n",
       "      <td>-0.197897</td>\n",
       "      <td>-0.175264</td>\n",
       "      <td>0</td>\n",
       "      <td>Big Data 1</td>\n",
       "    </tr>\n",
       "    <tr>\n",
       "      <th>1</th>\n",
       "      <td>0.725531</td>\n",
       "      <td>-0.390379</td>\n",
       "      <td>-0.204860</td>\n",
       "      <td>-0.114825</td>\n",
       "      <td>-0.114832</td>\n",
       "      <td>0.007503</td>\n",
       "      <td>0.099909</td>\n",
       "      <td>0.492780</td>\n",
       "      <td>0</td>\n",
       "      <td>Big Data 2</td>\n",
       "    </tr>\n",
       "    <tr>\n",
       "      <th>2</th>\n",
       "      <td>0.683723</td>\n",
       "      <td>-0.281814</td>\n",
       "      <td>-0.448236</td>\n",
       "      <td>-0.019688</td>\n",
       "      <td>0.024163</td>\n",
       "      <td>0.231507</td>\n",
       "      <td>0.081814</td>\n",
       "      <td>-0.436952</td>\n",
       "      <td>0</td>\n",
       "      <td>Big Data 3</td>\n",
       "    </tr>\n",
       "    <tr>\n",
       "      <th>3</th>\n",
       "      <td>0.397527</td>\n",
       "      <td>-0.183109</td>\n",
       "      <td>0.565014</td>\n",
       "      <td>0.286906</td>\n",
       "      <td>0.592710</td>\n",
       "      <td>0.222949</td>\n",
       "      <td>0.075900</td>\n",
       "      <td>0.010767</td>\n",
       "      <td>0</td>\n",
       "      <td>Big Data 4</td>\n",
       "    </tr>\n",
       "    <tr>\n",
       "      <th>4</th>\n",
       "      <td>0.299396</td>\n",
       "      <td>0.496426</td>\n",
       "      <td>0.312801</td>\n",
       "      <td>-0.003380</td>\n",
       "      <td>-0.491381</td>\n",
       "      <td>0.568664</td>\n",
       "      <td>-0.030944</td>\n",
       "      <td>0.016604</td>\n",
       "      <td>1</td>\n",
       "      <td>Agile Scrum 1</td>\n",
       "    </tr>\n",
       "    <tr>\n",
       "      <th>5</th>\n",
       "      <td>0.301990</td>\n",
       "      <td>0.446347</td>\n",
       "      <td>-0.279158</td>\n",
       "      <td>0.743401</td>\n",
       "      <td>-0.024221</td>\n",
       "      <td>-0.198763</td>\n",
       "      <td>-0.187231</td>\n",
       "      <td>0.062077</td>\n",
       "      <td>1</td>\n",
       "      <td>Agile Scrum 2</td>\n",
       "    </tr>\n",
       "    <tr>\n",
       "      <th>6</th>\n",
       "      <td>0.303722</td>\n",
       "      <td>0.625171</td>\n",
       "      <td>0.027935</td>\n",
       "      <td>-0.173876</td>\n",
       "      <td>0.102250</td>\n",
       "      <td>-0.280127</td>\n",
       "      <td>0.629317</td>\n",
       "      <td>-0.030588</td>\n",
       "      <td>1</td>\n",
       "      <td>Agile Scrum 3</td>\n",
       "    </tr>\n",
       "    <tr>\n",
       "      <th>7</th>\n",
       "      <td>0.358229</td>\n",
       "      <td>0.510495</td>\n",
       "      <td>-0.097475</td>\n",
       "      <td>-0.450745</td>\n",
       "      <td>0.369515</td>\n",
       "      <td>-0.034881</td>\n",
       "      <td>-0.509354</td>\n",
       "      <td>0.034553</td>\n",
       "      <td>1</td>\n",
       "      <td>Agile Scrum 4</td>\n",
       "    </tr>\n",
       "  </tbody>\n",
       "</table>\n",
       "</div>"
      ],
      "text/plain": [
       "      pca_0     pca_1     pca_2     pca_3     pca_4     pca_5     pca_6  \\\n",
       "0  0.512704 -0.209609  0.482888 -0.051667 -0.346826 -0.516894 -0.197897   \n",
       "1  0.725531 -0.390379 -0.204860 -0.114825 -0.114832  0.007503  0.099909   \n",
       "2  0.683723 -0.281814 -0.448236 -0.019688  0.024163  0.231507  0.081814   \n",
       "3  0.397527 -0.183109  0.565014  0.286906  0.592710  0.222949  0.075900   \n",
       "4  0.299396  0.496426  0.312801 -0.003380 -0.491381  0.568664 -0.030944   \n",
       "5  0.301990  0.446347 -0.279158  0.743401 -0.024221 -0.198763 -0.187231   \n",
       "6  0.303722  0.625171  0.027935 -0.173876  0.102250 -0.280127  0.629317   \n",
       "7  0.358229  0.510495 -0.097475 -0.450745  0.369515 -0.034881 -0.509354   \n",
       "\n",
       "      pca_7  cluster          title  \n",
       "0 -0.175264        0     Big Data 1  \n",
       "1  0.492780        0     Big Data 2  \n",
       "2 -0.436952        0     Big Data 3  \n",
       "3  0.010767        0     Big Data 4  \n",
       "4  0.016604        1  Agile Scrum 1  \n",
       "5  0.062077        1  Agile Scrum 2  \n",
       "6 -0.030588        1  Agile Scrum 3  \n",
       "7  0.034553        1  Agile Scrum 4  "
      ]
     },
     "execution_count": 42,
     "metadata": {},
     "output_type": "execute_result"
    }
   ],
   "source": [
    "clustered_data"
   ]
  },
  {
   "cell_type": "markdown",
   "metadata": {},
   "source": [
    "A chaque cluster, on associe un code couleur pour pouvoir visualiser l'info d'appartenance à un cluster dans un graphe..."
   ]
  },
  {
   "cell_type": "code",
   "execution_count": 43,
   "metadata": {},
   "outputs": [],
   "source": [
    "clustered_data[\"cluster\"] = clustered_data[\"cluster\"].apply(lambda x: int(x))"
   ]
  },
  {
   "cell_type": "code",
   "execution_count": 44,
   "metadata": {},
   "outputs": [],
   "source": [
    "clustered_data[\"cluster\"] = clustered_data[\"cluster\"].apply(lambda x: \"#FF033E\" if x==1 else \"#79C257\")"
   ]
  },
  {
   "cell_type": "markdown",
   "metadata": {},
   "source": [
    "On utilise la librairie python <b> bokeh </b> pour afficher les textes dans leur espace de représentation numérique donné par <b> PCA </b> en se limitant aux dimensions 1 et 2. <br>"
   ]
  },
  {
   "cell_type": "code",
   "execution_count": 48,
   "metadata": {},
   "outputs": [],
   "source": [
    "from bokeh.plotting import figure, show, output_file, output_notebook\n",
    "from bokeh.models import HoverTool"
   ]
  },
  {
   "cell_type": "code",
   "execution_count": 49,
   "metadata": {},
   "outputs": [],
   "source": [
    "TOOLS=\"crosshair,pan,wheel_zoom,zoom_in,zoom_out,box_zoom,undo,redo,reset,\\\n",
    "tap,save,box_select,poly_select,lasso_select,\""
   ]
  },
  {
   "cell_type": "code",
   "execution_count": 50,
   "metadata": {},
   "outputs": [
    {
     "data": {
      "text/html": [
       "\n",
       "    <div class=\"bk-root\">\n",
       "        <a href=\"https://bokeh.pydata.org\" target=\"_blank\" class=\"bk-logo bk-logo-small bk-logo-notebook\"></a>\n",
       "        <span id=\"1002\">Loading BokehJS ...</span>\n",
       "    </div>"
      ]
     },
     "metadata": {},
     "output_type": "display_data"
    },
    {
     "data": {
      "application/javascript": [
       "\n",
       "(function(root) {\n",
       "  function now() {\n",
       "    return new Date();\n",
       "  }\n",
       "\n",
       "  var force = true;\n",
       "\n",
       "  if (typeof (root._bokeh_onload_callbacks) === \"undefined\" || force === true) {\n",
       "    root._bokeh_onload_callbacks = [];\n",
       "    root._bokeh_is_loading = undefined;\n",
       "  }\n",
       "\n",
       "  var JS_MIME_TYPE = 'application/javascript';\n",
       "  var HTML_MIME_TYPE = 'text/html';\n",
       "  var EXEC_MIME_TYPE = 'application/vnd.bokehjs_exec.v0+json';\n",
       "  var CLASS_NAME = 'output_bokeh rendered_html';\n",
       "\n",
       "  /**\n",
       "   * Render data to the DOM node\n",
       "   */\n",
       "  function render(props, node) {\n",
       "    var script = document.createElement(\"script\");\n",
       "    node.appendChild(script);\n",
       "  }\n",
       "\n",
       "  /**\n",
       "   * Handle when an output is cleared or removed\n",
       "   */\n",
       "  function handleClearOutput(event, handle) {\n",
       "    var cell = handle.cell;\n",
       "\n",
       "    var id = cell.output_area._bokeh_element_id;\n",
       "    var server_id = cell.output_area._bokeh_server_id;\n",
       "    // Clean up Bokeh references\n",
       "    if (id != null && id in Bokeh.index) {\n",
       "      Bokeh.index[id].model.document.clear();\n",
       "      delete Bokeh.index[id];\n",
       "    }\n",
       "\n",
       "    if (server_id !== undefined) {\n",
       "      // Clean up Bokeh references\n",
       "      var cmd = \"from bokeh.io.state import curstate; print(curstate().uuid_to_server['\" + server_id + \"'].get_sessions()[0].document.roots[0]._id)\";\n",
       "      cell.notebook.kernel.execute(cmd, {\n",
       "        iopub: {\n",
       "          output: function(msg) {\n",
       "            var id = msg.content.text.trim();\n",
       "            if (id in Bokeh.index) {\n",
       "              Bokeh.index[id].model.document.clear();\n",
       "              delete Bokeh.index[id];\n",
       "            }\n",
       "          }\n",
       "        }\n",
       "      });\n",
       "      // Destroy server and session\n",
       "      var cmd = \"import bokeh.io.notebook as ion; ion.destroy_server('\" + server_id + \"')\";\n",
       "      cell.notebook.kernel.execute(cmd);\n",
       "    }\n",
       "  }\n",
       "\n",
       "  /**\n",
       "   * Handle when a new output is added\n",
       "   */\n",
       "  function handleAddOutput(event, handle) {\n",
       "    var output_area = handle.output_area;\n",
       "    var output = handle.output;\n",
       "\n",
       "    // limit handleAddOutput to display_data with EXEC_MIME_TYPE content only\n",
       "    if ((output.output_type != \"display_data\") || (!output.data.hasOwnProperty(EXEC_MIME_TYPE))) {\n",
       "      return\n",
       "    }\n",
       "\n",
       "    var toinsert = output_area.element.find(\".\" + CLASS_NAME.split(' ')[0]);\n",
       "\n",
       "    if (output.metadata[EXEC_MIME_TYPE][\"id\"] !== undefined) {\n",
       "      toinsert[toinsert.length - 1].firstChild.textContent = output.data[JS_MIME_TYPE];\n",
       "      // store reference to embed id on output_area\n",
       "      output_area._bokeh_element_id = output.metadata[EXEC_MIME_TYPE][\"id\"];\n",
       "    }\n",
       "    if (output.metadata[EXEC_MIME_TYPE][\"server_id\"] !== undefined) {\n",
       "      var bk_div = document.createElement(\"div\");\n",
       "      bk_div.innerHTML = output.data[HTML_MIME_TYPE];\n",
       "      var script_attrs = bk_div.children[0].attributes;\n",
       "      for (var i = 0; i < script_attrs.length; i++) {\n",
       "        toinsert[toinsert.length - 1].firstChild.setAttribute(script_attrs[i].name, script_attrs[i].value);\n",
       "      }\n",
       "      // store reference to server id on output_area\n",
       "      output_area._bokeh_server_id = output.metadata[EXEC_MIME_TYPE][\"server_id\"];\n",
       "    }\n",
       "  }\n",
       "\n",
       "  function register_renderer(events, OutputArea) {\n",
       "\n",
       "    function append_mime(data, metadata, element) {\n",
       "      // create a DOM node to render to\n",
       "      var toinsert = this.create_output_subarea(\n",
       "        metadata,\n",
       "        CLASS_NAME,\n",
       "        EXEC_MIME_TYPE\n",
       "      );\n",
       "      this.keyboard_manager.register_events(toinsert);\n",
       "      // Render to node\n",
       "      var props = {data: data, metadata: metadata[EXEC_MIME_TYPE]};\n",
       "      render(props, toinsert[toinsert.length - 1]);\n",
       "      element.append(toinsert);\n",
       "      return toinsert\n",
       "    }\n",
       "\n",
       "    /* Handle when an output is cleared or removed */\n",
       "    events.on('clear_output.CodeCell', handleClearOutput);\n",
       "    events.on('delete.Cell', handleClearOutput);\n",
       "\n",
       "    /* Handle when a new output is added */\n",
       "    events.on('output_added.OutputArea', handleAddOutput);\n",
       "\n",
       "    /**\n",
       "     * Register the mime type and append_mime function with output_area\n",
       "     */\n",
       "    OutputArea.prototype.register_mime_type(EXEC_MIME_TYPE, append_mime, {\n",
       "      /* Is output safe? */\n",
       "      safe: true,\n",
       "      /* Index of renderer in `output_area.display_order` */\n",
       "      index: 0\n",
       "    });\n",
       "  }\n",
       "\n",
       "  // register the mime type if in Jupyter Notebook environment and previously unregistered\n",
       "  if (root.Jupyter !== undefined) {\n",
       "    var events = require('base/js/events');\n",
       "    var OutputArea = require('notebook/js/outputarea').OutputArea;\n",
       "\n",
       "    if (OutputArea.prototype.mime_types().indexOf(EXEC_MIME_TYPE) == -1) {\n",
       "      register_renderer(events, OutputArea);\n",
       "    }\n",
       "  }\n",
       "\n",
       "  \n",
       "  if (typeof (root._bokeh_timeout) === \"undefined\" || force === true) {\n",
       "    root._bokeh_timeout = Date.now() + 5000;\n",
       "    root._bokeh_failed_load = false;\n",
       "  }\n",
       "\n",
       "  var NB_LOAD_WARNING = {'data': {'text/html':\n",
       "     \"<div style='background-color: #fdd'>\\n\"+\n",
       "     \"<p>\\n\"+\n",
       "     \"BokehJS does not appear to have successfully loaded. If loading BokehJS from CDN, this \\n\"+\n",
       "     \"may be due to a slow or bad network connection. Possible fixes:\\n\"+\n",
       "     \"</p>\\n\"+\n",
       "     \"<ul>\\n\"+\n",
       "     \"<li>re-rerun `output_notebook()` to attempt to load from CDN again, or</li>\\n\"+\n",
       "     \"<li>use INLINE resources instead, as so:</li>\\n\"+\n",
       "     \"</ul>\\n\"+\n",
       "     \"<code>\\n\"+\n",
       "     \"from bokeh.resources import INLINE\\n\"+\n",
       "     \"output_notebook(resources=INLINE)\\n\"+\n",
       "     \"</code>\\n\"+\n",
       "     \"</div>\"}};\n",
       "\n",
       "  function display_loaded() {\n",
       "    var el = document.getElementById(\"1002\");\n",
       "    if (el != null) {\n",
       "      el.textContent = \"BokehJS is loading...\";\n",
       "    }\n",
       "    if (root.Bokeh !== undefined) {\n",
       "      if (el != null) {\n",
       "        el.textContent = \"BokehJS \" + root.Bokeh.version + \" successfully loaded.\";\n",
       "      }\n",
       "    } else if (Date.now() < root._bokeh_timeout) {\n",
       "      setTimeout(display_loaded, 100)\n",
       "    }\n",
       "  }\n",
       "\n",
       "\n",
       "  function run_callbacks() {\n",
       "    try {\n",
       "      root._bokeh_onload_callbacks.forEach(function(callback) { callback() });\n",
       "    }\n",
       "    finally {\n",
       "      delete root._bokeh_onload_callbacks\n",
       "    }\n",
       "    console.info(\"Bokeh: all callbacks have finished\");\n",
       "  }\n",
       "\n",
       "  function load_libs(js_urls, callback) {\n",
       "    root._bokeh_onload_callbacks.push(callback);\n",
       "    if (root._bokeh_is_loading > 0) {\n",
       "      console.log(\"Bokeh: BokehJS is being loaded, scheduling callback at\", now());\n",
       "      return null;\n",
       "    }\n",
       "    if (js_urls == null || js_urls.length === 0) {\n",
       "      run_callbacks();\n",
       "      return null;\n",
       "    }\n",
       "    console.log(\"Bokeh: BokehJS not loaded, scheduling load and callback at\", now());\n",
       "    root._bokeh_is_loading = js_urls.length;\n",
       "    for (var i = 0; i < js_urls.length; i++) {\n",
       "      var url = js_urls[i];\n",
       "      var s = document.createElement('script');\n",
       "      s.src = url;\n",
       "      s.async = false;\n",
       "      s.onreadystatechange = s.onload = function() {\n",
       "        root._bokeh_is_loading--;\n",
       "        if (root._bokeh_is_loading === 0) {\n",
       "          console.log(\"Bokeh: all BokehJS libraries loaded\");\n",
       "          run_callbacks()\n",
       "        }\n",
       "      };\n",
       "      s.onerror = function() {\n",
       "        console.warn(\"failed to load library \" + url);\n",
       "      };\n",
       "      console.log(\"Bokeh: injecting script tag for BokehJS library: \", url);\n",
       "      document.getElementsByTagName(\"head\")[0].appendChild(s);\n",
       "    }\n",
       "  };var element = document.getElementById(\"1002\");\n",
       "  if (element == null) {\n",
       "    console.log(\"Bokeh: ERROR: autoload.js configured with elementid '1002' but no matching script tag was found. \")\n",
       "    return false;\n",
       "  }\n",
       "\n",
       "  var js_urls = [\"https://cdn.pydata.org/bokeh/release/bokeh-1.0.4.min.js\", \"https://cdn.pydata.org/bokeh/release/bokeh-widgets-1.0.4.min.js\", \"https://cdn.pydata.org/bokeh/release/bokeh-tables-1.0.4.min.js\", \"https://cdn.pydata.org/bokeh/release/bokeh-gl-1.0.4.min.js\"];\n",
       "\n",
       "  var inline_js = [\n",
       "    function(Bokeh) {\n",
       "      Bokeh.set_log_level(\"info\");\n",
       "    },\n",
       "    \n",
       "    function(Bokeh) {\n",
       "      \n",
       "    },\n",
       "    function(Bokeh) {\n",
       "      console.log(\"Bokeh: injecting CSS: https://cdn.pydata.org/bokeh/release/bokeh-1.0.4.min.css\");\n",
       "      Bokeh.embed.inject_css(\"https://cdn.pydata.org/bokeh/release/bokeh-1.0.4.min.css\");\n",
       "      console.log(\"Bokeh: injecting CSS: https://cdn.pydata.org/bokeh/release/bokeh-widgets-1.0.4.min.css\");\n",
       "      Bokeh.embed.inject_css(\"https://cdn.pydata.org/bokeh/release/bokeh-widgets-1.0.4.min.css\");\n",
       "      console.log(\"Bokeh: injecting CSS: https://cdn.pydata.org/bokeh/release/bokeh-tables-1.0.4.min.css\");\n",
       "      Bokeh.embed.inject_css(\"https://cdn.pydata.org/bokeh/release/bokeh-tables-1.0.4.min.css\");\n",
       "    }\n",
       "  ];\n",
       "\n",
       "  function run_inline_js() {\n",
       "    \n",
       "    if ((root.Bokeh !== undefined) || (force === true)) {\n",
       "      for (var i = 0; i < inline_js.length; i++) {\n",
       "        inline_js[i].call(root, root.Bokeh);\n",
       "      }if (force === true) {\n",
       "        display_loaded();\n",
       "      }} else if (Date.now() < root._bokeh_timeout) {\n",
       "      setTimeout(run_inline_js, 100);\n",
       "    } else if (!root._bokeh_failed_load) {\n",
       "      console.log(\"Bokeh: BokehJS failed to load within specified timeout.\");\n",
       "      root._bokeh_failed_load = true;\n",
       "    } else if (force !== true) {\n",
       "      var cell = $(document.getElementById(\"1002\")).parents('.cell').data().cell;\n",
       "      cell.output_area.append_execute_result(NB_LOAD_WARNING)\n",
       "    }\n",
       "\n",
       "  }\n",
       "\n",
       "  if (root._bokeh_is_loading === 0) {\n",
       "    console.log(\"Bokeh: BokehJS loaded, going straight to plotting\");\n",
       "    run_inline_js();\n",
       "  } else {\n",
       "    load_libs(js_urls, function() {\n",
       "      console.log(\"Bokeh: BokehJS plotting callback run at\", now());\n",
       "      run_inline_js();\n",
       "    });\n",
       "  }\n",
       "}(window));"
      ],
      "application/vnd.bokehjs_load.v0+json": "\n(function(root) {\n  function now() {\n    return new Date();\n  }\n\n  var force = true;\n\n  if (typeof (root._bokeh_onload_callbacks) === \"undefined\" || force === true) {\n    root._bokeh_onload_callbacks = [];\n    root._bokeh_is_loading = undefined;\n  }\n\n  \n\n  \n  if (typeof (root._bokeh_timeout) === \"undefined\" || force === true) {\n    root._bokeh_timeout = Date.now() + 5000;\n    root._bokeh_failed_load = false;\n  }\n\n  var NB_LOAD_WARNING = {'data': {'text/html':\n     \"<div style='background-color: #fdd'>\\n\"+\n     \"<p>\\n\"+\n     \"BokehJS does not appear to have successfully loaded. If loading BokehJS from CDN, this \\n\"+\n     \"may be due to a slow or bad network connection. Possible fixes:\\n\"+\n     \"</p>\\n\"+\n     \"<ul>\\n\"+\n     \"<li>re-rerun `output_notebook()` to attempt to load from CDN again, or</li>\\n\"+\n     \"<li>use INLINE resources instead, as so:</li>\\n\"+\n     \"</ul>\\n\"+\n     \"<code>\\n\"+\n     \"from bokeh.resources import INLINE\\n\"+\n     \"output_notebook(resources=INLINE)\\n\"+\n     \"</code>\\n\"+\n     \"</div>\"}};\n\n  function display_loaded() {\n    var el = document.getElementById(\"1002\");\n    if (el != null) {\n      el.textContent = \"BokehJS is loading...\";\n    }\n    if (root.Bokeh !== undefined) {\n      if (el != null) {\n        el.textContent = \"BokehJS \" + root.Bokeh.version + \" successfully loaded.\";\n      }\n    } else if (Date.now() < root._bokeh_timeout) {\n      setTimeout(display_loaded, 100)\n    }\n  }\n\n\n  function run_callbacks() {\n    try {\n      root._bokeh_onload_callbacks.forEach(function(callback) { callback() });\n    }\n    finally {\n      delete root._bokeh_onload_callbacks\n    }\n    console.info(\"Bokeh: all callbacks have finished\");\n  }\n\n  function load_libs(js_urls, callback) {\n    root._bokeh_onload_callbacks.push(callback);\n    if (root._bokeh_is_loading > 0) {\n      console.log(\"Bokeh: BokehJS is being loaded, scheduling callback at\", now());\n      return null;\n    }\n    if (js_urls == null || js_urls.length === 0) {\n      run_callbacks();\n      return null;\n    }\n    console.log(\"Bokeh: BokehJS not loaded, scheduling load and callback at\", now());\n    root._bokeh_is_loading = js_urls.length;\n    for (var i = 0; i < js_urls.length; i++) {\n      var url = js_urls[i];\n      var s = document.createElement('script');\n      s.src = url;\n      s.async = false;\n      s.onreadystatechange = s.onload = function() {\n        root._bokeh_is_loading--;\n        if (root._bokeh_is_loading === 0) {\n          console.log(\"Bokeh: all BokehJS libraries loaded\");\n          run_callbacks()\n        }\n      };\n      s.onerror = function() {\n        console.warn(\"failed to load library \" + url);\n      };\n      console.log(\"Bokeh: injecting script tag for BokehJS library: \", url);\n      document.getElementsByTagName(\"head\")[0].appendChild(s);\n    }\n  };var element = document.getElementById(\"1002\");\n  if (element == null) {\n    console.log(\"Bokeh: ERROR: autoload.js configured with elementid '1002' but no matching script tag was found. \")\n    return false;\n  }\n\n  var js_urls = [\"https://cdn.pydata.org/bokeh/release/bokeh-1.0.4.min.js\", \"https://cdn.pydata.org/bokeh/release/bokeh-widgets-1.0.4.min.js\", \"https://cdn.pydata.org/bokeh/release/bokeh-tables-1.0.4.min.js\", \"https://cdn.pydata.org/bokeh/release/bokeh-gl-1.0.4.min.js\"];\n\n  var inline_js = [\n    function(Bokeh) {\n      Bokeh.set_log_level(\"info\");\n    },\n    \n    function(Bokeh) {\n      \n    },\n    function(Bokeh) {\n      console.log(\"Bokeh: injecting CSS: https://cdn.pydata.org/bokeh/release/bokeh-1.0.4.min.css\");\n      Bokeh.embed.inject_css(\"https://cdn.pydata.org/bokeh/release/bokeh-1.0.4.min.css\");\n      console.log(\"Bokeh: injecting CSS: https://cdn.pydata.org/bokeh/release/bokeh-widgets-1.0.4.min.css\");\n      Bokeh.embed.inject_css(\"https://cdn.pydata.org/bokeh/release/bokeh-widgets-1.0.4.min.css\");\n      console.log(\"Bokeh: injecting CSS: https://cdn.pydata.org/bokeh/release/bokeh-tables-1.0.4.min.css\");\n      Bokeh.embed.inject_css(\"https://cdn.pydata.org/bokeh/release/bokeh-tables-1.0.4.min.css\");\n    }\n  ];\n\n  function run_inline_js() {\n    \n    if ((root.Bokeh !== undefined) || (force === true)) {\n      for (var i = 0; i < inline_js.length; i++) {\n        inline_js[i].call(root, root.Bokeh);\n      }if (force === true) {\n        display_loaded();\n      }} else if (Date.now() < root._bokeh_timeout) {\n      setTimeout(run_inline_js, 100);\n    } else if (!root._bokeh_failed_load) {\n      console.log(\"Bokeh: BokehJS failed to load within specified timeout.\");\n      root._bokeh_failed_load = true;\n    } else if (force !== true) {\n      var cell = $(document.getElementById(\"1002\")).parents('.cell').data().cell;\n      cell.output_area.append_execute_result(NB_LOAD_WARNING)\n    }\n\n  }\n\n  if (root._bokeh_is_loading === 0) {\n    console.log(\"Bokeh: BokehJS loaded, going straight to plotting\");\n    run_inline_js();\n  } else {\n    load_libs(js_urls, function() {\n      console.log(\"Bokeh: BokehJS plotting callback run at\", now());\n      run_inline_js();\n    });\n  }\n}(window));"
     },
     "metadata": {},
     "output_type": "display_data"
    }
   ],
   "source": [
    "output_notebook()"
   ]
  },
  {
   "cell_type": "code",
   "execution_count": 51,
   "metadata": {},
   "outputs": [],
   "source": [
    "x_pca = \"pca_0\"\n",
    "y_pca = \"pca_1\""
   ]
  },
  {
   "cell_type": "code",
   "execution_count": 52,
   "metadata": {},
   "outputs": [],
   "source": [
    "titles_hover = HoverTool(\n",
    "    tooltips=[\n",
    "        (\"index\", \"$index\"),\n",
    "        (\"(x,y)\", \"($x, $y)\"),\n",
    "        (\"title\", \"@title\"),\n",
    "    ]\n",
    ")"
   ]
  },
  {
   "cell_type": "code",
   "execution_count": 53,
   "metadata": {},
   "outputs": [
    {
     "data": {
      "text/html": [
       "<div style=\"display: table;\"><div style=\"display: table-row;\"><div style=\"display: table-cell;\"><b title=\"bokeh.models.renderers.GlyphRenderer\">GlyphRenderer</b>(</div><div style=\"display: table-cell;\">id&nbsp;=&nbsp;'1065', <span id=\"1068\" style=\"cursor: pointer;\">&hellip;)</span></div></div><div class=\"1067\" style=\"display: none;\"><div style=\"display: table-cell;\"></div><div style=\"display: table-cell;\">data_source&nbsp;=&nbsp;ColumnDataSource(id='1061', ...),</div></div><div class=\"1067\" style=\"display: none;\"><div style=\"display: table-cell;\"></div><div style=\"display: table-cell;\">glyph&nbsp;=&nbsp;Scatter(id='1063', ...),</div></div><div class=\"1067\" style=\"display: none;\"><div style=\"display: table-cell;\"></div><div style=\"display: table-cell;\">hover_glyph&nbsp;=&nbsp;None,</div></div><div class=\"1067\" style=\"display: none;\"><div style=\"display: table-cell;\"></div><div style=\"display: table-cell;\">js_event_callbacks&nbsp;=&nbsp;{},</div></div><div class=\"1067\" style=\"display: none;\"><div style=\"display: table-cell;\"></div><div style=\"display: table-cell;\">js_property_callbacks&nbsp;=&nbsp;{},</div></div><div class=\"1067\" style=\"display: none;\"><div style=\"display: table-cell;\"></div><div style=\"display: table-cell;\">level&nbsp;=&nbsp;'glyph',</div></div><div class=\"1067\" style=\"display: none;\"><div style=\"display: table-cell;\"></div><div style=\"display: table-cell;\">muted&nbsp;=&nbsp;False,</div></div><div class=\"1067\" style=\"display: none;\"><div style=\"display: table-cell;\"></div><div style=\"display: table-cell;\">muted_glyph&nbsp;=&nbsp;None,</div></div><div class=\"1067\" style=\"display: none;\"><div style=\"display: table-cell;\"></div><div style=\"display: table-cell;\">name&nbsp;=&nbsp;None,</div></div><div class=\"1067\" style=\"display: none;\"><div style=\"display: table-cell;\"></div><div style=\"display: table-cell;\">nonselection_glyph&nbsp;=&nbsp;Scatter(id='1064', ...),</div></div><div class=\"1067\" style=\"display: none;\"><div style=\"display: table-cell;\"></div><div style=\"display: table-cell;\">selection_glyph&nbsp;=&nbsp;None,</div></div><div class=\"1067\" style=\"display: none;\"><div style=\"display: table-cell;\"></div><div style=\"display: table-cell;\">subscribed_events&nbsp;=&nbsp;[],</div></div><div class=\"1067\" style=\"display: none;\"><div style=\"display: table-cell;\"></div><div style=\"display: table-cell;\">tags&nbsp;=&nbsp;[],</div></div><div class=\"1067\" style=\"display: none;\"><div style=\"display: table-cell;\"></div><div style=\"display: table-cell;\">view&nbsp;=&nbsp;CDSView(id='1066', ...),</div></div><div class=\"1067\" style=\"display: none;\"><div style=\"display: table-cell;\"></div><div style=\"display: table-cell;\">visible&nbsp;=&nbsp;True,</div></div><div class=\"1067\" style=\"display: none;\"><div style=\"display: table-cell;\"></div><div style=\"display: table-cell;\">x_range_name&nbsp;=&nbsp;'default',</div></div><div class=\"1067\" style=\"display: none;\"><div style=\"display: table-cell;\"></div><div style=\"display: table-cell;\">y_range_name&nbsp;=&nbsp;'default')</div></div></div>\n",
       "<script>\n",
       "(function() {\n",
       "  var expanded = false;\n",
       "  var ellipsis = document.getElementById(\"1068\");\n",
       "  ellipsis.addEventListener(\"click\", function() {\n",
       "    var rows = document.getElementsByClassName(\"1067\");\n",
       "    for (var i = 0; i < rows.length; i++) {\n",
       "      var el = rows[i];\n",
       "      el.style.display = expanded ? \"none\" : \"table-row\";\n",
       "    }\n",
       "    ellipsis.innerHTML = expanded ? \"&hellip;)\" : \"&lsaquo;&lsaquo;&lsaquo;\";\n",
       "    expanded = !expanded;\n",
       "  });\n",
       "})();\n",
       "</script>\n"
      ],
      "text/plain": [
       "GlyphRenderer(id='1065', ...)"
      ]
     },
     "execution_count": 53,
     "metadata": {},
     "output_type": "execute_result"
    }
   ],
   "source": [
    "pca_plot = figure(tools=[TOOLS, titles_hover])\n",
    "pca_plot.scatter(x=x_pca, y=y_pca, fill_color=\"cluster\", source=clustered_data)"
   ]
  },
  {
   "cell_type": "code",
   "execution_count": 54,
   "metadata": {},
   "outputs": [
    {
     "data": {
      "text/html": [
       "\n",
       "\n",
       "\n",
       "\n",
       "\n",
       "\n",
       "  <div class=\"bk-root\" id=\"a5546448-5e6c-466b-9a62-5b7493c5b5ef\" data-root-id=\"1004\"></div>\n"
      ]
     },
     "metadata": {},
     "output_type": "display_data"
    },
    {
     "data": {
      "application/javascript": [
       "(function(root) {\n",
       "  function embed_document(root) {\n",
       "    \n",
       "  var docs_json = {\"777ee03c-abbc-4b1f-b9b2-8979c0d7c03c\":{\"roots\":{\"references\":[{\"attributes\":{\"below\":[{\"id\":\"1013\",\"type\":\"LinearAxis\"}],\"left\":[{\"id\":\"1018\",\"type\":\"LinearAxis\"}],\"renderers\":[{\"id\":\"1013\",\"type\":\"LinearAxis\"},{\"id\":\"1017\",\"type\":\"Grid\"},{\"id\":\"1018\",\"type\":\"LinearAxis\"},{\"id\":\"1022\",\"type\":\"Grid\"},{\"id\":\"1043\",\"type\":\"BoxAnnotation\"},{\"id\":\"1051\",\"type\":\"BoxAnnotation\"},{\"id\":\"1054\",\"type\":\"PolyAnnotation\"},{\"id\":\"1057\",\"type\":\"PolyAnnotation\"},{\"id\":\"1065\",\"type\":\"GlyphRenderer\"}],\"title\":{\"id\":\"1069\",\"type\":\"Title\"},\"toolbar\":{\"id\":\"1037\",\"type\":\"Toolbar\"},\"x_range\":{\"id\":\"1005\",\"type\":\"DataRange1d\"},\"x_scale\":{\"id\":\"1009\",\"type\":\"LinearScale\"},\"y_range\":{\"id\":\"1007\",\"type\":\"DataRange1d\"},\"y_scale\":{\"id\":\"1011\",\"type\":\"LinearScale\"}},\"id\":\"1004\",\"subtype\":\"Figure\",\"type\":\"Plot\"},{\"attributes\":{},\"id\":\"1014\",\"type\":\"BasicTicker\"},{\"attributes\":{\"callback\":null},\"id\":\"1032\",\"type\":\"TapTool\"},{\"attributes\":{\"fill_color\":{\"field\":\"cluster\"},\"line_color\":{\"value\":\"#1f77b4\"},\"x\":{\"field\":\"pca_0\"},\"y\":{\"field\":\"pca_1\"}},\"id\":\"1063\",\"type\":\"Scatter\"},{\"attributes\":{\"plot\":{\"id\":\"1004\",\"subtype\":\"Figure\",\"type\":\"Plot\"},\"ticker\":{\"id\":\"1014\",\"type\":\"BasicTicker\"}},\"id\":\"1017\",\"type\":\"Grid\"},{\"attributes\":{},\"id\":\"1033\",\"type\":\"SaveTool\"},{\"attributes\":{\"formatter\":{\"id\":\"1072\",\"type\":\"BasicTickFormatter\"},\"plot\":{\"id\":\"1004\",\"subtype\":\"Figure\",\"type\":\"Plot\"},\"ticker\":{\"id\":\"1019\",\"type\":\"BasicTicker\"}},\"id\":\"1018\",\"type\":\"LinearAxis\"},{\"attributes\":{\"callback\":null,\"overlay\":{\"id\":\"1051\",\"type\":\"BoxAnnotation\"}},\"id\":\"1034\",\"type\":\"BoxSelectTool\"},{\"attributes\":{},\"id\":\"1019\",\"type\":\"BasicTicker\"},{\"attributes\":{\"callback\":null,\"overlay\":{\"id\":\"1054\",\"type\":\"PolyAnnotation\"}},\"id\":\"1035\",\"type\":\"PolySelectTool\"},{\"attributes\":{\"dimension\":1,\"plot\":{\"id\":\"1004\",\"subtype\":\"Figure\",\"type\":\"Plot\"},\"ticker\":{\"id\":\"1019\",\"type\":\"BasicTicker\"}},\"id\":\"1022\",\"type\":\"Grid\"},{\"attributes\":{\"fill_alpha\":{\"value\":0.1},\"fill_color\":{\"value\":\"#1f77b4\"},\"line_alpha\":{\"value\":0.1},\"line_color\":{\"value\":\"#1f77b4\"},\"x\":{\"field\":\"pca_0\"},\"y\":{\"field\":\"pca_1\"}},\"id\":\"1064\",\"type\":\"Scatter\"},{\"attributes\":{\"callback\":null,\"tooltips\":[[\"index\",\"$index\"],[\"(x,y)\",\"($x, $y)\"],[\"title\",\"@title\"]]},\"id\":\"1003\",\"type\":\"HoverTool\"},{\"attributes\":{\"callback\":null,\"overlay\":{\"id\":\"1057\",\"type\":\"PolyAnnotation\"}},\"id\":\"1036\",\"type\":\"LassoSelectTool\"},{\"attributes\":{\"active_drag\":\"auto\",\"active_inspect\":\"auto\",\"active_multi\":null,\"active_scroll\":\"auto\",\"active_tap\":\"auto\",\"tools\":[{\"id\":\"1003\",\"type\":\"HoverTool\"},{\"id\":\"1023\",\"type\":\"CrosshairTool\"},{\"id\":\"1024\",\"type\":\"PanTool\"},{\"id\":\"1025\",\"type\":\"WheelZoomTool\"},{\"id\":\"1026\",\"type\":\"ZoomInTool\"},{\"id\":\"1027\",\"type\":\"ZoomOutTool\"},{\"id\":\"1028\",\"type\":\"BoxZoomTool\"},{\"id\":\"1029\",\"type\":\"UndoTool\"},{\"id\":\"1030\",\"type\":\"RedoTool\"},{\"id\":\"1031\",\"type\":\"ResetTool\"},{\"id\":\"1032\",\"type\":\"TapTool\"},{\"id\":\"1033\",\"type\":\"SaveTool\"},{\"id\":\"1034\",\"type\":\"BoxSelectTool\"},{\"id\":\"1035\",\"type\":\"PolySelectTool\"},{\"id\":\"1036\",\"type\":\"LassoSelectTool\"}]},\"id\":\"1037\",\"type\":\"Toolbar\"},{\"attributes\":{},\"id\":\"1080\",\"type\":\"Selection\"},{\"attributes\":{\"bottom_units\":\"screen\",\"fill_alpha\":{\"value\":0.5},\"fill_color\":{\"value\":\"lightgrey\"},\"left_units\":\"screen\",\"level\":\"overlay\",\"line_alpha\":{\"value\":1.0},\"line_color\":{\"value\":\"black\"},\"line_dash\":[4,4],\"line_width\":{\"value\":2},\"plot\":null,\"render_mode\":\"css\",\"right_units\":\"screen\",\"top_units\":\"screen\"},\"id\":\"1043\",\"type\":\"BoxAnnotation\"},{\"attributes\":{\"source\":{\"id\":\"1061\",\"type\":\"ColumnDataSource\"}},\"id\":\"1066\",\"type\":\"CDSView\"},{\"attributes\":{\"bottom_units\":\"screen\",\"fill_alpha\":{\"value\":0.5},\"fill_color\":{\"value\":\"lightgrey\"},\"left_units\":\"screen\",\"level\":\"overlay\",\"line_alpha\":{\"value\":1.0},\"line_color\":{\"value\":\"black\"},\"line_dash\":[4,4],\"line_width\":{\"value\":2},\"plot\":null,\"render_mode\":\"css\",\"right_units\":\"screen\",\"top_units\":\"screen\"},\"id\":\"1051\",\"type\":\"BoxAnnotation\"},{\"attributes\":{\"data_source\":{\"id\":\"1061\",\"type\":\"ColumnDataSource\"},\"glyph\":{\"id\":\"1063\",\"type\":\"Scatter\"},\"hover_glyph\":null,\"muted_glyph\":null,\"nonselection_glyph\":{\"id\":\"1064\",\"type\":\"Scatter\"},\"selection_glyph\":null,\"view\":{\"id\":\"1066\",\"type\":\"CDSView\"}},\"id\":\"1065\",\"type\":\"GlyphRenderer\"},{\"attributes\":{},\"id\":\"1074\",\"type\":\"BasicTickFormatter\"},{\"attributes\":{\"fill_alpha\":{\"value\":0.5},\"fill_color\":{\"value\":\"lightgrey\"},\"level\":\"overlay\",\"line_alpha\":{\"value\":1.0},\"line_color\":{\"value\":\"black\"},\"line_dash\":[4,4],\"line_width\":{\"value\":2},\"plot\":null,\"xs_units\":\"screen\",\"ys_units\":\"screen\"},\"id\":\"1054\",\"type\":\"PolyAnnotation\"},{\"attributes\":{},\"id\":\"1023\",\"type\":\"CrosshairTool\"},{\"attributes\":{},\"id\":\"1079\",\"type\":\"UnionRenderers\"},{\"attributes\":{\"fill_alpha\":{\"value\":0.5},\"fill_color\":{\"value\":\"lightgrey\"},\"level\":\"overlay\",\"line_alpha\":{\"value\":1.0},\"line_color\":{\"value\":\"black\"},\"line_dash\":[4,4],\"line_width\":{\"value\":2},\"plot\":null,\"xs_units\":\"screen\",\"ys_units\":\"screen\"},\"id\":\"1057\",\"type\":\"PolyAnnotation\"},{\"attributes\":{},\"id\":\"1024\",\"type\":\"PanTool\"},{\"attributes\":{},\"id\":\"1025\",\"type\":\"WheelZoomTool\"},{\"attributes\":{\"callback\":null,\"data\":{\"cluster\":[\"#79C257\",\"#79C257\",\"#79C257\",\"#79C257\",\"#FF033E\",\"#FF033E\",\"#FF033E\",\"#FF033E\"],\"index\":[0,1,2,3,4,5,6,7],\"pca_0\":{\"__ndarray__\":\"bI0TQxNo4D9shEPuizfnPy//BwoQ4eU/VQ1AhBVx2T/+U3ygTinTP/uG9gzMU9M/uXmxXC1w0z/OYukQO+3WPw==\",\"dtype\":\"float64\",\"shape\":[8]},\"pca_1\":{\"__ndarray__\":\"50gIpXjUyr8Th5FX+fvYv0nTSa07CdK/UhUf+Blwx78YN4cxc8XfP4sDMs7ykNw/28Bo0WYB5D8pu/9A+lXgPw==\",\"dtype\":\"float64\",\"shape\":[8]},\"pca_2\":{\"__ndarray__\":\"z5vuP6Pn3j+ejhD12DjKv4KI7afmr9y/QAKbPpgU4j8+oXzs7ATUPxaqmWO63dG/5vhSkwWbnD+iA7k2JfS4vw==\",\"dtype\":\"float64\",\"shape\":[8]},\"pca_3\":{\"__ndarray__\":\"kgTw8xh0qr+BhanyMGW9v9lwE8ALKZS/coUfa6pc0j8hOYiQgq9rv6Q7hbPwyec/neyloJVBxr/hnEnwANncvw==\",\"dtype\":\"float64\",\"shape\":[8]},\"pca_4\":{\"__ndarray__\":\"M3ceFGUy1r8REzOppmW9v8w2Gwo1vpg/UXP1a3r34j8Kb3JLyXLfv+VHGLVyzZi/bszlIwctuj/CsS0qI6bXPw==\",\"dtype\":\"float64\",\"shape\":[8]},\"pca_5\":{\"__ndarray__\":\"YOqxkmSK4L+5Gfg3H7t+P/9IlRUEos0/KrACNZWJzD8MW2J/fjLiP9QcLsUOccm/alB9tpft0b9HnKPP9tuhvw==\",\"dtype\":\"float64\",\"shape\":[8]},\"pca_6\":{\"__ndarray__\":\"vL3j4bBUyb8ReUVjqZO5P3W2k6rH8bQ/2/7uSClusz9orvx04q+fv5j3Mc0y98e/oSawdVwj5D94DvxWoUzgvw==\",\"dtype\":\"float64\",\"shape\":[8]},\"pca_7\":{\"__ndarray__\":\"U+2H8ghvxr+7ko4FtonfPwIenXkG99u/HYFmFz0Nhj/uVxp2xACRP+1wMnOYyK8/IPy3J4lSn79CPlsl3rChPw==\",\"dtype\":\"float64\",\"shape\":[8]},\"title\":[\"Big Data 1\",\"Big Data 2\",\"Big Data 3\",\"Big Data 4\",\"Agile Scrum 1\",\"Agile Scrum 2\",\"Agile Scrum 3\",\"Agile Scrum 4\"]},\"selected\":{\"id\":\"1080\",\"type\":\"Selection\"},\"selection_policy\":{\"id\":\"1079\",\"type\":\"UnionRenderers\"}},\"id\":\"1061\",\"type\":\"ColumnDataSource\"},{\"attributes\":{},\"id\":\"1026\",\"type\":\"ZoomInTool\"},{\"attributes\":{\"callback\":null},\"id\":\"1005\",\"type\":\"DataRange1d\"},{\"attributes\":{},\"id\":\"1027\",\"type\":\"ZoomOutTool\"},{\"attributes\":{\"callback\":null},\"id\":\"1007\",\"type\":\"DataRange1d\"},{\"attributes\":{\"overlay\":{\"id\":\"1043\",\"type\":\"BoxAnnotation\"}},\"id\":\"1028\",\"type\":\"BoxZoomTool\"},{\"attributes\":{},\"id\":\"1009\",\"type\":\"LinearScale\"},{\"attributes\":{},\"id\":\"1029\",\"type\":\"UndoTool\"},{\"attributes\":{},\"id\":\"1072\",\"type\":\"BasicTickFormatter\"},{\"attributes\":{\"plot\":null,\"text\":\"\"},\"id\":\"1069\",\"type\":\"Title\"},{\"attributes\":{},\"id\":\"1011\",\"type\":\"LinearScale\"},{\"attributes\":{},\"id\":\"1030\",\"type\":\"RedoTool\"},{\"attributes\":{\"formatter\":{\"id\":\"1074\",\"type\":\"BasicTickFormatter\"},\"plot\":{\"id\":\"1004\",\"subtype\":\"Figure\",\"type\":\"Plot\"},\"ticker\":{\"id\":\"1014\",\"type\":\"BasicTicker\"}},\"id\":\"1013\",\"type\":\"LinearAxis\"},{\"attributes\":{},\"id\":\"1031\",\"type\":\"ResetTool\"}],\"root_ids\":[\"1004\"]},\"title\":\"Bokeh Application\",\"version\":\"1.0.4\"}};\n",
       "  var render_items = [{\"docid\":\"777ee03c-abbc-4b1f-b9b2-8979c0d7c03c\",\"roots\":{\"1004\":\"a5546448-5e6c-466b-9a62-5b7493c5b5ef\"}}];\n",
       "  root.Bokeh.embed.embed_items_notebook(docs_json, render_items);\n",
       "\n",
       "  }\n",
       "  if (root.Bokeh !== undefined) {\n",
       "    embed_document(root);\n",
       "  } else {\n",
       "    var attempts = 0;\n",
       "    var timer = setInterval(function(root) {\n",
       "      if (root.Bokeh !== undefined) {\n",
       "        embed_document(root);\n",
       "        clearInterval(timer);\n",
       "      }\n",
       "      attempts++;\n",
       "      if (attempts > 100) {\n",
       "        console.log(\"Bokeh: ERROR: Unable to run BokehJS code because BokehJS library is missing\");\n",
       "        clearInterval(timer);\n",
       "      }\n",
       "    }, 10, root)\n",
       "  }\n",
       "})(window);"
      ],
      "application/vnd.bokehjs_exec.v0+json": ""
     },
     "metadata": {
      "application/vnd.bokehjs_exec.v0+json": {
       "id": "1004"
      }
     },
     "output_type": "display_data"
    }
   ],
   "source": [
    "show(pca_plot)"
   ]
  },
  {
   "cell_type": "markdown",
   "metadata": {},
   "source": [
    "En faisant pointer la souris sur chaque point (article), un pop up visualise son index, titre et coordonnées. <br>\n",
    "Vous remarqueriez que les articles du Big Data sont rapprochés entre eux (idem pour les articles en agilité), mais les deux groupes sont largement distants. Vous remarqueriez aussi que le Clustering a donné de bon résultats puisque tous les articles Big Data sont attribués à un même Cluster (de couleur verte) et tous les articles agilité Scrum sont attribués à un même Cluster (de couleur rouge)"
   ]
  },
  {
   "cell_type": "code",
   "execution_count": null,
   "metadata": {},
   "outputs": [],
   "source": []
  }
 ],
 "metadata": {
  "kernelspec": {
   "display_name": "Python 3",
   "language": "python",
   "name": "python3"
  },
  "language_info": {
   "codemirror_mode": {
    "name": "ipython",
    "version": 3
   },
   "file_extension": ".py",
   "mimetype": "text/x-python",
   "name": "python",
   "nbconvert_exporter": "python",
   "pygments_lexer": "ipython3",
   "version": "3.7.3"
  }
 },
 "nbformat": 4,
 "nbformat_minor": 2
}
