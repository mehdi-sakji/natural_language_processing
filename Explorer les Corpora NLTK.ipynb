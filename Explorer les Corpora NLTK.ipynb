{
 "cells": [
  {
   "cell_type": "markdown",
   "metadata": {},
   "source": [
    "# Explorer les Corpora NLTK"
   ]
  },
  {
   "cell_type": "code",
   "execution_count": 1,
   "metadata": {},
   "outputs": [],
   "source": [
    "import nltk"
   ]
  },
  {
   "cell_type": "markdown",
   "metadata": {},
   "source": [
    "La commande ci-dessous lance un Pop Up où on peut choisir quel corpus (mais aussi modules et fonctionnalités) télécharger..."
   ]
  },
  {
   "cell_type": "code",
   "execution_count": 2,
   "metadata": {},
   "outputs": [
    {
     "name": "stdout",
     "output_type": "stream",
     "text": [
      "showing info https://raw.githubusercontent.com/nltk/nltk_data/gh-pages/index.xml\n"
     ]
    },
    {
     "data": {
      "text/plain": [
       "True"
      ]
     },
     "execution_count": 2,
     "metadata": {},
     "output_type": "execute_result"
    }
   ],
   "source": [
    "nltk.download()"
   ]
  },
  {
   "cell_type": "markdown",
   "metadata": {},
   "source": [
    "Après avoir téléchargé le corpus <b> gutenburg </b> depuis le Pop Up, l'importer dans l'intérpréteur Python"
   ]
  },
  {
   "cell_type": "code",
   "execution_count": 3,
   "metadata": {},
   "outputs": [],
   "source": [
    "from nltk.corpus import gutenberg"
   ]
  },
  {
   "cell_type": "markdown",
   "metadata": {},
   "source": [
    "Le corpus gutenburg inclut une petite sélection de textes issus de l'archive de textes électroniques <b> Project Gutenberg </b> qui contient 25,000 livres électorniques gratuits hébérgés sous le lien http://www.gutenberg.org/"
   ]
  },
  {
   "cell_type": "markdown",
   "metadata": {},
   "source": [
    "La commande ci-dessous permet d'afficher les identifiants (titres) des textes contenus dans le corpus..."
   ]
  },
  {
   "cell_type": "code",
   "execution_count": 4,
   "metadata": {},
   "outputs": [],
   "source": [
    "#gutenberg.fileids()"
   ]
  },
  {
   "cell_type": "markdown",
   "metadata": {},
   "source": [
    "La méthode <b> sents() </b> du corpus permet de décomposer le texte dont le titre est passé en paramètre à la méthode en phrases. Ces dernières sont elles mêmes décomposées en mots (on obtient donc une liste de listes)"
   ]
  },
  {
   "cell_type": "code",
   "execution_count": 5,
   "metadata": {},
   "outputs": [
    {
     "data": {
      "text/plain": [
       "[['[', 'The', 'Tragedie', 'of', 'Macbeth', 'by', 'William', 'Shakespeare', '1603', ']'], ['Actus', 'Primus', '.'], ...]"
      ]
     },
     "execution_count": 5,
     "metadata": {},
     "output_type": "execute_result"
    }
   ],
   "source": [
    "macbeth_sentences = gutenberg.sents('shakespeare-macbeth.txt')\n",
    "macbeth_sentences"
   ]
  },
  {
   "cell_type": "markdown",
   "metadata": {},
   "source": [
    "La méthode <b> words() </b> du corpus permet de décomposer le texte dont le titre est passé en paramètre à la méthode en la liste de ses mots."
   ]
  },
  {
   "cell_type": "code",
   "execution_count": 6,
   "metadata": {},
   "outputs": [],
   "source": [
    "words_emma = nltk.corpus.gutenberg.words('austen-emma.txt')"
   ]
  },
  {
   "cell_type": "code",
   "execution_count": 7,
   "metadata": {},
   "outputs": [
    {
     "data": {
      "text/plain": [
       "192427"
      ]
     },
     "execution_count": 7,
     "metadata": {},
     "output_type": "execute_result"
    }
   ],
   "source": [
    "len(words_emma)"
   ]
  },
  {
   "cell_type": "markdown",
   "metadata": {},
   "source": [
    "La méthode <b> concordance() </b> appliquée à une liste de mots permet d'afficher chaque occurence du mot passé en paramètre à la méthode accompagné de son contexte"
   ]
  },
  {
   "cell_type": "code",
   "execution_count": 8,
   "metadata": {},
   "outputs": [],
   "source": [
    "text_emma = nltk.Text(words_emma)"
   ]
  },
  {
   "cell_type": "code",
   "execution_count": 9,
   "metadata": {},
   "outputs": [
    {
     "name": "stdout",
     "output_type": "stream",
     "text": [
      "Displaying 25 of 37 matches:\n",
      "er father , was sometimes taken by surprize at his being still able to pity ` \n",
      "hem do the other any good .\" \" You surprize me ! Emma must do Harriet good : a\n",
      "Knightley actually looked red with surprize and displeasure , as he stood up ,\n",
      "r . Elton , and found to his great surprize , that Mr . Elton was actually on \n",
      "d aid .\" Emma saw Mrs . Weston ' s surprize , and felt that it must be great ,\n",
      "father was quite taken up with the surprize of so sudden a journey , and his f\n",
      "y , in all the favouring warmth of surprize and conjecture . She was , moreove\n",
      "he appeared , to have her share of surprize , introduction , and pleasure . Th\n",
      "ir plans ; and it was an agreeable surprize to her , therefore , to perceive t\n",
      "talking aunt had taken me quite by surprize , it must have been the death of m\n",
      "f all the dialogue which ensued of surprize , and inquiry , and congratulation\n",
      " the present . They might chuse to surprize her .\" Mrs . Cole had many to agre\n",
      "the mode of it , the mystery , the surprize , is more like a young woman ' s s\n",
      " to her song took her agreeably by surprize -- a second , slightly but correct\n",
      "\" \" Oh ! no -- there is nothing to surprize one at all .-- A pretty fortune ; \n",
      "t to be considered . Emma ' s only surprize was that Jane Fairfax should accep\n",
      "of your admiration may take you by surprize some day or other .\" Mr . Knightle\n",
      "ation for her will ever take me by surprize .-- I never had a thought of her i\n",
      " expected by the best judges , for surprize -- but there was great joy . Mr . \n",
      " sound of at first , without great surprize . \" So unreasonably early !\" she w\n",
      "d Frank Churchill , with a look of surprize and displeasure .-- \" That is easy\n",
      "; and Emma could imagine with what surprize and mortification she must be retu\n",
      "tled that Jane should go . Quite a surprize to me ! I had not the least idea !\n",
      " . It is impossible to express our surprize . He came to speak to his father o\n",
      "g engaged !\" Emma even jumped with surprize ;-- and , horror - struck , exclai\n"
     ]
    }
   ],
   "source": [
    "text_emma.concordance(\"surprize\")"
   ]
  },
  {
   "cell_type": "markdown",
   "metadata": {},
   "source": [
    "Quels autres mots apparaissent dans des contextes similaires ?"
   ]
  },
  {
   "cell_type": "code",
   "execution_count": 10,
   "metadata": {},
   "outputs": [
    {
     "name": "stdout",
     "output_type": "stream",
     "text": [
      "her letter marriage it man pleasure mind him circumstance idea word\n",
      "truth disposition world friend situation herself all evening event\n"
     ]
    }
   ],
   "source": [
    "text_emma.similar(\"surprize\")"
   ]
  },
  {
   "cell_type": "code",
   "execution_count": 12,
   "metadata": {},
   "outputs": [],
   "source": [
    "from nltk import FreqDist"
   ]
  },
  {
   "cell_type": "markdown",
   "metadata": {},
   "source": [
    "La fonction  <b> FreqDist </b> renvoie la fréquence de chaque mot dans le texte passé en argument à cette fonction"
   ]
  },
  {
   "cell_type": "code",
   "execution_count": 14,
   "metadata": {},
   "outputs": [],
   "source": [
    "fdist = FreqDist(text_emma)"
   ]
  },
  {
   "cell_type": "code",
   "execution_count": 15,
   "metadata": {},
   "outputs": [
    {
     "data": {
      "text/plain": [
       "FreqDist({',': 11454, '.': 6928, 'to': 5183, 'the': 4844, 'and': 4672, 'of': 4279, 'I': 3178, 'a': 3004, 'was': 2385, 'her': 2381, ...})"
      ]
     },
     "execution_count": 15,
     "metadata": {},
     "output_type": "execute_result"
    }
   ],
   "source": [
    "fdist"
   ]
  },
  {
   "cell_type": "markdown",
   "metadata": {},
   "source": [
    "Voilà par exemple la fréquence du mot <b> surprize </b> dans le texte <b> text_emma </b>"
   ]
  },
  {
   "cell_type": "code",
   "execution_count": 17,
   "metadata": {},
   "outputs": [
    {
     "data": {
      "text/plain": [
       "37"
      ]
     },
     "execution_count": 17,
     "metadata": {},
     "output_type": "execute_result"
    }
   ],
   "source": [
    "fdist[\"surprize\"]"
   ]
  },
  {
   "cell_type": "markdown",
   "metadata": {},
   "source": [
    "Cette ligne renvoie les mots peu fréquents dans le texte (fréquence inférieure ou égale à () en les passant tous en miniscule..."
   ]
  },
  {
   "cell_type": "code",
   "execution_count": 18,
   "metadata": {},
   "outputs": [],
   "source": [
    "text_emma = [w.lower() for w in text_emma if fdist[w]<=5]"
   ]
  },
  {
   "cell_type": "code",
   "execution_count": 19,
   "metadata": {},
   "outputs": [
    {
     "data": {
      "text/plain": [
       "['[',\n",
       " 'austen',\n",
       " '1816',\n",
       " ']',\n",
       " 'volume',\n",
       " 'unite',\n",
       " 'vex',\n",
       " 'youngest',\n",
       " 'indulgent',\n",
       " 'died',\n",
       " 'indistinct',\n",
       " 'caresses',\n",
       " 'supplied',\n",
       " 'sixteen',\n",
       " 'between',\n",
       " '_them_',\n",
       " 'nominal',\n",
       " 'mildness',\n",
       " 'impose',\n",
       " 'restraint',\n",
       " 'shadow',\n",
       " 'mutually',\n",
       " 'esteeming',\n",
       " 'disadvantages',\n",
       " 'threatened',\n",
       " 'alloy',\n",
       " 'enjoyments',\n",
       " 'unperceived',\n",
       " 'misfortunes',\n",
       " 'sorrow',\n",
       " 'sorrow',\n",
       " 'shape',\n",
       " 'grief',\n",
       " 'mournful',\n",
       " 'continuance',\n",
       " 'third',\n",
       " 'cheer',\n",
       " 'sleep',\n",
       " 'suitable',\n",
       " 'generous',\n",
       " 'promoted',\n",
       " 'black',\n",
       " 'recalled',\n",
       " 'devoted',\n",
       " 'attach',\n",
       " 'nursed',\n",
       " 'illnesses',\n",
       " 'childhood',\n",
       " 'debt',\n",
       " 'owing',\n",
       " 'footing',\n",
       " 'dearer',\n",
       " 'tenderer',\n",
       " 'possessed',\n",
       " 'intelligent',\n",
       " 'informed',\n",
       " 'arose',\n",
       " 'intellectual',\n",
       " 'solitude',\n",
       " 'dearly',\n",
       " 'playful',\n",
       " 'actual',\n",
       " 'ages',\n",
       " 'valetudinarian',\n",
       " 'activity',\n",
       " 'everywhere',\n",
       " 'friendliness',\n",
       " 'comparatively',\n",
       " 'october',\n",
       " 'november',\n",
       " 'struggled',\n",
       " 'fill',\n",
       " 'populous',\n",
       " 'village',\n",
       " 'amounting',\n",
       " 'lawn',\n",
       " 'shrubberies',\n",
       " 'equals',\n",
       " 'woodhouses',\n",
       " 'universally',\n",
       " 'lieu',\n",
       " 'awoke',\n",
       " 'hating',\n",
       " 'hating',\n",
       " 'matrimony',\n",
       " 'origin',\n",
       " 'selfishness',\n",
       " 'chatted',\n",
       " 'humours',\n",
       " 'humours',\n",
       " '_we_',\n",
       " 'stable',\n",
       " 'housemaid',\n",
       " 'hannah',\n",
       " 'hannah',\n",
       " 'curtseys',\n",
       " 'asks',\n",
       " 'needlework',\n",
       " 'lock',\n",
       " 'bangs',\n",
       " 'maintain',\n",
       " 'backgammon',\n",
       " 'attacked',\n",
       " 'backgammon',\n",
       " 'thirty',\n",
       " 'elder',\n",
       " 'mutual',\n",
       " 'animated',\n",
       " 'satisfactorily',\n",
       " 'gratefully',\n",
       " 'shocking',\n",
       " 'moonlight',\n",
       " 'mild',\n",
       " 'dirty',\n",
       " 'dirty',\n",
       " 'look',\n",
       " 'shoes',\n",
       " 'speck',\n",
       " 'surprising',\n",
       " 'rained',\n",
       " 'being',\n",
       " 'behave',\n",
       " 'tis',\n",
       " 'especially',\n",
       " 'fanciful',\n",
       " 'playfully',\n",
       " 'fanciful',\n",
       " 'horrible',\n",
       " 'flatter',\n",
       " 'chances',\n",
       " 'gainer',\n",
       " 'charmingly',\n",
       " 'punctual',\n",
       " 'tear',\n",
       " 'apart',\n",
       " 'bears',\n",
       " '_will_',\n",
       " 'divided',\n",
       " 'provision',\n",
       " 'fondly',\n",
       " 'foretell',\n",
       " 'widower',\n",
       " 'deathbed',\n",
       " 'letting',\n",
       " 'solemn',\n",
       " 'ever',\n",
       " 'broadway',\n",
       " 'drizzle',\n",
       " 'darted',\n",
       " 'borrowed',\n",
       " 'umbrellas',\n",
       " 'farmer',\n",
       " 'mitchell',\n",
       " 'planned',\n",
       " ',\\'\"',\n",
       " 'success',\n",
       " 'supposes',\n",
       " 'delicately',\n",
       " 'endeavouring',\n",
       " 'planning',\n",
       " 'idle',\n",
       " 'cleverer',\n",
       " 'pictures',\n",
       " 'third',\n",
       " 'promoted',\n",
       " 'encouragements',\n",
       " 'smoothed',\n",
       " 'straightforward',\n",
       " 'unaffected',\n",
       " 'manage',\n",
       " 'rejoined',\n",
       " 'grievously',\n",
       " 'fitted',\n",
       " 'joining',\n",
       " 'invite',\n",
       " 'fish',\n",
       " 'chicken',\n",
       " 'ii',\n",
       " 'native',\n",
       " 'generations',\n",
       " 'succeeding',\n",
       " 'indisposed',\n",
       " 'homely',\n",
       " 'pursuits',\n",
       " 'brothers',\n",
       " 'militia',\n",
       " 'county',\n",
       " 'embodied',\n",
       " 'captain',\n",
       " 'chances',\n",
       " 'military',\n",
       " 'offend',\n",
       " 'proportion',\n",
       " 'estate',\n",
       " 'dissuaded',\n",
       " 'infinite',\n",
       " 'threw',\n",
       " 'decorum',\n",
       " 'unsuitable',\n",
       " 'pursue',\n",
       " 'refrain',\n",
       " 'missing',\n",
       " 'luxuries',\n",
       " 'captain',\n",
       " 'captain',\n",
       " 'amazing',\n",
       " 'bargain',\n",
       " 'died',\n",
       " 'poorer',\n",
       " 'maintain',\n",
       " 'relieved',\n",
       " 'additional',\n",
       " 'softening',\n",
       " 'lingering',\n",
       " 'reconciliation',\n",
       " 'kindred',\n",
       " 'decease',\n",
       " 'reluctance',\n",
       " 'widower',\n",
       " 'considerations',\n",
       " 'militia',\n",
       " 'brothers',\n",
       " 'established',\n",
       " 'occupation',\n",
       " 'eighteen',\n",
       " 'realised',\n",
       " 'competence',\n",
       " 'estate',\n",
       " 'portionless',\n",
       " 'according',\n",
       " 'tyrannic',\n",
       " 'determination',\n",
       " 'settling',\n",
       " 'sale',\n",
       " 'steadily',\n",
       " 'bought',\n",
       " 'obtained',\n",
       " 'pleasantest',\n",
       " 'choose',\n",
       " 'excite',\n",
       " 'tacitly',\n",
       " 'heir',\n",
       " 'avowed',\n",
       " 'adoption',\n",
       " 'assume',\n",
       " 'unlikely',\n",
       " 'capricious',\n",
       " 'governed',\n",
       " 'caprice',\n",
       " 'affect',\n",
       " 'deservedly',\n",
       " 'belonging',\n",
       " 'boasts',\n",
       " 'achieved',\n",
       " 'dissentient',\n",
       " 'drank',\n",
       " 'strengthened',\n",
       " 'included',\n",
       " 'prized',\n",
       " 'irresistible',\n",
       " 'congratulation',\n",
       " 'separation',\n",
       " 'cooled',\n",
       " 'losing',\n",
       " 'ennui',\n",
       " 'companionableness',\n",
       " 'feeble',\n",
       " 'energy',\n",
       " 'privations',\n",
       " 'convenient',\n",
       " 'solitary',\n",
       " 'hindrance',\n",
       " 'spending',\n",
       " 'evenings',\n",
       " 'centre',\n",
       " 'recovering',\n",
       " 'likelihood',\n",
       " 'ceasing',\n",
       " 'alleviation',\n",
       " 'teased',\n",
       " 'sorrowful',\n",
       " 'stomach',\n",
       " 'unwholesome',\n",
       " 'regarded',\n",
       " 'unfit',\n",
       " 'dissuade',\n",
       " 'consulting',\n",
       " 'apothecary',\n",
       " 'intelligent',\n",
       " 'gentlemanlike',\n",
       " 'applied',\n",
       " 'bias',\n",
       " 'disagree',\n",
       " 'moderately',\n",
       " 'confirmation',\n",
       " 'newly',\n",
       " 'eaten',\n",
       " 'benevolent',\n",
       " 'rumour',\n",
       " 'perrys',\n",
       " 'slice',\n",
       " 'iii',\n",
       " 'causes',\n",
       " 'residence',\n",
       " 'unfit',\n",
       " 'fortunately',\n",
       " 'including',\n",
       " 'comprehended',\n",
       " 'unfrequently',\n",
       " 'real',\n",
       " 'privilege',\n",
       " 'exchanging',\n",
       " 'vacant',\n",
       " 'blank',\n",
       " 'solitude',\n",
       " 'elegancies',\n",
       " 'fetched',\n",
       " 'carried',\n",
       " 'hardship',\n",
       " 'grievance',\n",
       " 'widow',\n",
       " 'vicar',\n",
       " 'quadrille',\n",
       " 'harmless',\n",
       " 'untoward',\n",
       " 'excite',\n",
       " 'uncommon',\n",
       " 'popularity',\n",
       " 'predicament',\n",
       " 'intellectual',\n",
       " 'atonement',\n",
       " 'frighten',\n",
       " 'hate',\n",
       " 'outward',\n",
       " 'boasted',\n",
       " 'cleverness',\n",
       " 'devoted',\n",
       " 'failing',\n",
       " 'universal',\n",
       " 'worked',\n",
       " 'wonders',\n",
       " 'quicksighted',\n",
       " 'surrounded',\n",
       " 'trivial',\n",
       " 'communications',\n",
       " 'harmless',\n",
       " 'gossip',\n",
       " 'school',\n",
       " 'seminary',\n",
       " 'sentences',\n",
       " 'refined',\n",
       " 'combine',\n",
       " 'acquirements',\n",
       " 'morality',\n",
       " 'systems',\n",
       " 'enormous',\n",
       " 'screwed',\n",
       " 'honest',\n",
       " 'fashioned',\n",
       " 'boarding',\n",
       " 'quantity',\n",
       " 'accomplishments',\n",
       " 'sold',\n",
       " 'price',\n",
       " 'scramble',\n",
       " 'prodigies',\n",
       " 'repute',\n",
       " 'deservedly',\n",
       " 'reckoned',\n",
       " 'healthy',\n",
       " 'plenty',\n",
       " 'wholesome',\n",
       " 'food',\n",
       " 'chilblains',\n",
       " 'train',\n",
       " 'motherly',\n",
       " 'worked',\n",
       " 'entitled',\n",
       " 'occasional',\n",
       " 'holiday',\n",
       " 'formerly',\n",
       " 'owed',\n",
       " 'hung',\n",
       " 'win',\n",
       " 'sixpences',\n",
       " 'fireside',\n",
       " 'collect',\n",
       " 'remedy',\n",
       " 'contriving',\n",
       " 'prosings',\n",
       " 'evenings',\n",
       " 'fearfully',\n",
       " 'requesting',\n",
       " 'respectful',\n",
       " 'request',\n",
       " 'seventeen',\n",
       " 'gracious',\n",
       " 'dreaded',\n",
       " 'mansion',\n",
       " 'somebody',\n",
       " 'scholar',\n",
       " 'boarder',\n",
       " 'visible',\n",
       " 'acquired',\n",
       " 'plump',\n",
       " 'bloom',\n",
       " 'blue',\n",
       " 'inconveniently',\n",
       " 'shy',\n",
       " 'pushing',\n",
       " 'deference',\n",
       " 'artlessly',\n",
       " 'impressed',\n",
       " 'encouragement',\n",
       " 'blue',\n",
       " 'graces',\n",
       " 'wasted',\n",
       " 'renting',\n",
       " 'farm',\n",
       " 'residing',\n",
       " 'creditably',\n",
       " 'coarse',\n",
       " 'unpolished',\n",
       " 'unfit',\n",
       " 'intimates',\n",
       " 'detach',\n",
       " 'undertaking',\n",
       " 'admiring',\n",
       " 'blue',\n",
       " 'betweens',\n",
       " 'flew',\n",
       " 'unusual',\n",
       " 'forwards',\n",
       " 'alacrity',\n",
       " 'impulse',\n",
       " 'attentively',\n",
       " 'honours',\n",
       " 'meal',\n",
       " 'minced',\n",
       " 'chicken',\n",
       " 'scalloped',\n",
       " 'oysters',\n",
       " 'urgency',\n",
       " 'woodhouses',\n",
       " 'warfare',\n",
       " 'cloth',\n",
       " 'fashion',\n",
       " 'suppers',\n",
       " 'unwholesome',\n",
       " 'hospitality',\n",
       " 'welcomed',\n",
       " 'visitors',\n",
       " 'grieve',\n",
       " 'basin',\n",
       " 'constrain',\n",
       " 'clearing',\n",
       " 'nicer',\n",
       " 'propose',\n",
       " 'venturing',\n",
       " 'eggs',\n",
       " 'egg',\n",
       " 'boiled',\n",
       " 'unwholesome',\n",
       " 'serle',\n",
       " 'understands',\n",
       " 'boiling',\n",
       " 'egg',\n",
       " 'egg',\n",
       " 'boiled',\n",
       " 'eggs',\n",
       " '_little_',\n",
       " 'bit',\n",
       " 'tart',\n",
       " 'bit',\n",
       " 'ours',\n",
       " 'tarts',\n",
       " 'unwholesome',\n",
       " 'preserves',\n",
       " 'custard',\n",
       " '_half_',\n",
       " 'glass',\n",
       " '_small_',\n",
       " 'glass',\n",
       " 'tumbler',\n",
       " 'disagree',\n",
       " 'supplied',\n",
       " 'visitors',\n",
       " 'personage',\n",
       " 'panic',\n",
       " 'affability',\n",
       " 'treated',\n",
       " 'iv',\n",
       " 'quick',\n",
       " 'inviting',\n",
       " 'shrubbery',\n",
       " 'divisions',\n",
       " 'sufficed',\n",
       " 'varied',\n",
       " 'summon',\n",
       " 'privileges',\n",
       " 'confirmed',\n",
       " 'designs',\n",
       " 'docile',\n",
       " 'free',\n",
       " 'desiring',\n",
       " 'appreciating',\n",
       " 'altogether',\n",
       " 'granted',\n",
       " 'basis',\n",
       " 'esteem',\n",
       " 'usefulness',\n",
       " 'parents',\n",
       " 'discovered',\n",
       " 'penetration',\n",
       " 'teachers',\n",
       " 'affairs',\n",
       " 'farm',\n",
       " 'wonders',\n",
       " 'talkativeness',\n",
       " 'beings',\n",
       " 'enjoying',\n",
       " 'youthful',\n",
       " 'exultation',\n",
       " '_two_',\n",
       " 'parlours',\n",
       " 'parlours',\n",
       " 'upper',\n",
       " 'cows',\n",
       " 'alderneys',\n",
       " 'welch',\n",
       " 'cow',\n",
       " 'welch',\n",
       " 'cow',\n",
       " 'cow',\n",
       " 'drink',\n",
       " 'dozen',\n",
       " 'arose',\n",
       " 'narrative',\n",
       " 'hospitality',\n",
       " 'forever',\n",
       " 'inspiriting',\n",
       " 'notion',\n",
       " 'moonlight',\n",
       " 'walks',\n",
       " 'merry',\n",
       " 'games',\n",
       " 'dwelt',\n",
       " 'walnuts',\n",
       " 'shepherd',\n",
       " 'sing',\n",
       " 'singing',\n",
       " 'sing',\n",
       " 'flock',\n",
       " 'bid',\n",
       " 'wool',\n",
       " '_wanted_',\n",
       " 'goose',\n",
       " 'goose',\n",
       " 'sunday',\n",
       " 'teachers',\n",
       " 'prince',\n",
       " 'richardson',\n",
       " 'sup',\n",
       " 'reads',\n",
       " 'agricultural',\n",
       " 'reports',\n",
       " 'books',\n",
       " 'seats',\n",
       " 'reads',\n",
       " '_them_',\n",
       " 'cards',\n",
       " 'elegant',\n",
       " 'extracts',\n",
       " 'entertaining',\n",
       " 'vicar',\n",
       " 'wakefield',\n",
       " 'romance',\n",
       " 'forest',\n",
       " 'children',\n",
       " 'books',\n",
       " 'fifty',\n",
       " 'horseback',\n",
       " 'yeomanry',\n",
       " 'lower',\n",
       " 'creditable',\n",
       " 'below',\n",
       " '8th',\n",
       " 'birthday',\n",
       " '23rd',\n",
       " 'six',\n",
       " 'six',\n",
       " 'thirty',\n",
       " 'beforehand',\n",
       " 'whatever',\n",
       " 'died',\n",
       " 'afloat',\n",
       " 'stock',\n",
       " 'forth',\n",
       " 'diligence',\n",
       " 'realised',\n",
       " 'indoors',\n",
       " 'talks',\n",
       " 'scrape',\n",
       " 'objected',\n",
       " 'careful',\n",
       " 'associates',\n",
       " 'station',\n",
       " 'plenty',\n",
       " 'degrading',\n",
       " 'firmly',\n",
       " 'established',\n",
       " 'permanently',\n",
       " 'advisable',\n",
       " 'marries',\n",
       " 'educated',\n",
       " 'marries',\n",
       " 'fluctuations',\n",
       " 'admirer',\n",
       " 'oppose',\n",
       " 'respectfully',\n",
       " 'unfeigned',\n",
       " 'survey',\n",
       " 'contrasted',\n",
       " 'gained',\n",
       " 'insensible',\n",
       " 'voluntarily',\n",
       " 'noticed',\n",
       " 'gentleness',\n",
       " 'running',\n",
       " 'compose',\n",
       " 'happening',\n",
       " 'romance',\n",
       " 'forest',\n",
       " 'forgot',\n",
       " 'clownish',\n",
       " 'genteel',\n",
       " 'repeatedly',\n",
       " 'specimens',\n",
       " 'educated',\n",
       " 'bred',\n",
       " 'perceiving',\n",
       " 'abrupt',\n",
       " 'uncouthness',\n",
       " 'unmodulated',\n",
       " 'compare',\n",
       " '_gentleman_',\n",
       " 'compare',\n",
       " '_them_',\n",
       " 'compare',\n",
       " 'fifty',\n",
       " 'which',\n",
       " 'grows',\n",
       " 'glaring',\n",
       " 'disgusting',\n",
       " 'loudness',\n",
       " 'coarseness',\n",
       " 'awkwardness',\n",
       " 'becomes',\n",
       " 'passable',\n",
       " 'detestable',\n",
       " 'later',\n",
       " 'abrupt',\n",
       " 'solemnly',\n",
       " 'guessing',\n",
       " 'gross',\n",
       " 'inattentive',\n",
       " 'appearances',\n",
       " 'profit',\n",
       " 'engrosses',\n",
       " 'market',\n",
       " 'thriving',\n",
       " 'books',\n",
       " '_will_',\n",
       " 'thrive',\n",
       " 'illiterate',\n",
       " 'coarse',\n",
       " 'disturb',\n",
       " '_us_',\n",
       " 'gentleness',\n",
       " 'pattern',\n",
       " 'openness',\n",
       " 'bluntness',\n",
       " 'likes',\n",
       " 'copied',\n",
       " 'downright',\n",
       " 'commanding',\n",
       " 'suits',\n",
       " 'copying',\n",
       " 'sufferable',\n",
       " 'model',\n",
       " 'design',\n",
       " 'ingratiating',\n",
       " 'additional',\n",
       " 'softness',\n",
       " 'strikes',\n",
       " 'softer',\n",
       " 'driving',\n",
       " 'palpably',\n",
       " 'planning',\n",
       " 'predict',\n",
       " 'equalled',\n",
       " 'date',\n",
       " 'expediency',\n",
       " 'suitable',\n",
       " 'vicarage',\n",
       " 'deficiency',\n",
       " 'foundation',\n",
       " 'weight',\n",
       " 'efficacy',\n",
       " 'fastidious',\n",
       " 'reckoned',\n",
       " 'feature',\n",
       " 'dispense',\n",
       " 'riding',\n",
       " 'walnuts',\n",
       " 'conquered',\n",
       " 'v',\n",
       " 'supplying',\n",
       " 'quarrels',\n",
       " 'fight',\n",
       " 'battle',\n",
       " 'agreeing',\n",
       " 'associate',\n",
       " 'sex',\n",
       " 'informed',\n",
       " 'inducement',\n",
       " 'lists',\n",
       " 'books',\n",
       " 'regularly',\n",
       " 'lists',\n",
       " 'neatly',\n",
       " 'alphabetically',\n",
       " 'list',\n",
       " 'fourteen',\n",
       " 'preserved',\n",
       " 'list',\n",
       " 'submit',\n",
       " 'requiring',\n",
       " 'industry',\n",
       " 'subjection',\n",
       " 'stimulate',\n",
       " 'affirm',\n",
       " '_then_',\n",
       " 'omitting',\n",
       " 'desiring',\n",
       " 'refresh',\n",
       " 'feelingly',\n",
       " 'senses',\n",
       " 'spoiled',\n",
       " 'cleverest',\n",
       " 'puzzled',\n",
       " 'seventeen',\n",
       " 'diffident',\n",
       " 'cope',\n",
       " 'inherits',\n",
       " 'subjection',\n",
       " 'dependent',\n",
       " '_your_',\n",
       " 'unfit',\n",
       " '_here_',\n",
       " 'preparing',\n",
       " 'matrimonial',\n",
       " 'submitting',\n",
       " 'bid',\n",
       " 'despair',\n",
       " 'wantonness',\n",
       " 'plague',\n",
       " 'foretell',\n",
       " 'possibilities',\n",
       " 'genius',\n",
       " 'foretelling',\n",
       " 'guessing',\n",
       " 'flatterer',\n",
       " 'undesigned',\n",
       " 'ignorance',\n",
       " 'hourly',\n",
       " 'flattery',\n",
       " 'learn',\n",
       " 'presenting',\n",
       " 'inferiority',\n",
       " 'gain',\n",
       " 'belongs',\n",
       " 'refined',\n",
       " 'uncomfortable',\n",
       " 'doctrines',\n",
       " 'tend',\n",
       " 'adapt',\n",
       " 'rationally',\n",
       " 'varieties',\n",
       " 'polish',\n",
       " 'lament',\n",
       " 'pretty',\n",
       " 'hazle',\n",
       " 'bloom',\n",
       " 'firm',\n",
       " 'bloom',\n",
       " 'hears',\n",
       " \";'\",\n",
       " 'loveliness',\n",
       " 'personally',\n",
       " 'considering',\n",
       " 'lies',\n",
       " 'stout',\n",
       " 'kinder',\n",
       " 'truer',\n",
       " 'lasting',\n",
       " 'errs',\n",
       " 'plague',\n",
       " 'angel',\n",
       " 'spleen',\n",
       " 'brings',\n",
       " 'unkind',\n",
       " 'somewhat',\n",
       " 'privilege',\n",
       " 'hinting',\n",
       " 'discussion',\n",
       " 'apprehended',\n",
       " 'accountable',\n",
       " 'approves',\n",
       " 'province',\n",
       " 'remains',\n",
       " 'be',\n",
       " 'outcry',\n",
       " 'sincere',\n",
       " 'gently',\n",
       " 'declares',\n",
       " 'hereabouts',\n",
       " 'attach',\n",
       " 'tempt',\n",
       " 'part',\n",
       " 'respecting',\n",
       " 'transition',\n",
       " 'surmise',\n",
       " 'vi',\n",
       " 'confident',\n",
       " 'fairest',\n",
       " 'praised',\n",
       " 'perception',\n",
       " 'striking',\n",
       " 'proofs',\n",
       " 'graceful',\n",
       " 'attractions',\n",
       " 'artlessness',\n",
       " 'admissible',\n",
       " 'contradict',\n",
       " 'principally',\n",
       " 'strikes',\n",
       " 'superadded',\n",
       " 'skilful',\n",
       " 'great',\n",
       " 'sighing',\n",
       " 'seconded',\n",
       " 'naivete',\n",
       " 'possession',\n",
       " 'likenesses',\n",
       " 'disgust',\n",
       " 'drawings',\n",
       " 'specimens',\n",
       " 'landscapes',\n",
       " 'flowers',\n",
       " 'inimitable',\n",
       " 'pieces',\n",
       " 'likenesses',\n",
       " 'raptures',\n",
       " 'keep',\n",
       " 'raptures',\n",
       " 'peculiarity',\n",
       " 'shape',\n",
       " 'mouth',\n",
       " 'shape',\n",
       " 'mouth',\n",
       " 'possession',\n",
       " 'answering',\n",
       " '?\\'\"',\n",
       " 'portfolio',\n",
       " 'containing',\n",
       " 'portraits',\n",
       " 'decide',\n",
       " 'beginnings',\n",
       " 'displayed',\n",
       " 'miniatures',\n",
       " 'lengths',\n",
       " 'lengths',\n",
       " 'pencil',\n",
       " 'crayon',\n",
       " 'colours',\n",
       " 'labour',\n",
       " 'submit',\n",
       " 'sang',\n",
       " 'steadiness',\n",
       " 'approached',\n",
       " 'excellence',\n",
       " 'artist',\n",
       " 'musician',\n",
       " 'reputation',\n",
       " 'accomplishment',\n",
       " 'spirited',\n",
       " 'ecstasies',\n",
       " 'pleases',\n",
       " 'performances',\n",
       " 'capital',\n",
       " 'variety',\n",
       " 'faces',\n",
       " 'study',\n",
       " 'stealth',\n",
       " 'kindest',\n",
       " 'unlike',\n",
       " 'bella',\n",
       " 'sheet',\n",
       " 'coarser',\n",
       " 'featured',\n",
       " 'mama',\n",
       " 'sketch',\n",
       " 'fourth',\n",
       " 'sleeping',\n",
       " 'sofa',\n",
       " 'cockade',\n",
       " 'nestled',\n",
       " 'conveniently',\n",
       " 'sofa',\n",
       " 'unclosing',\n",
       " 'sketch',\n",
       " 'pet',\n",
       " 'vowed',\n",
       " 'provoked',\n",
       " 'flattering',\n",
       " 'persuading',\n",
       " 'finish',\n",
       " 'apologised',\n",
       " 'unfavourable',\n",
       " 'forswear',\n",
       " 'husbands',\n",
       " 'wives',\n",
       " '_at_',\n",
       " '_present_',\n",
       " 'repeating',\n",
       " 'husbands',\n",
       " 'wives',\n",
       " 'husbands',\n",
       " 'wives',\n",
       " 'portrait',\n",
       " 'colours',\n",
       " 'destined',\n",
       " 'station',\n",
       " 'mantelpiece',\n",
       " 'blushing',\n",
       " 'attitude',\n",
       " 'presented',\n",
       " 'youthful',\n",
       " 'artist',\n",
       " 'fidgeting',\n",
       " 'stationing',\n",
       " 'gaze',\n",
       " 'gaze',\n",
       " 'request',\n",
       " 'elsewhere',\n",
       " 'lessen',\n",
       " 'irksomeness',\n",
       " 'intermission',\n",
       " 'pencil',\n",
       " 'jump',\n",
       " 'charmed',\n",
       " 'encourager',\n",
       " 'discern',\n",
       " 'complaisance',\n",
       " 'sketch',\n",
       " 'attitude',\n",
       " 'considerably',\n",
       " 'filling',\n",
       " 'destined',\n",
       " 'memorial',\n",
       " 'associations',\n",
       " 'promising',\n",
       " 'entreated',\n",
       " 'permission',\n",
       " 'courtesies',\n",
       " 'accompanied',\n",
       " 'rapid',\n",
       " 'raptures',\n",
       " 'defended',\n",
       " 'criticism',\n",
       " 'suspecting',\n",
       " 'correct',\n",
       " 'eyebrows',\n",
       " 'eyelashes',\n",
       " 'resemblance',\n",
       " 'feature',\n",
       " 'consider',\n",
       " 'presents',\n",
       " 'proportions',\n",
       " 'preserved',\n",
       " 'proportions',\n",
       " 'fore',\n",
       " 'shortening',\n",
       " 'prettily',\n",
       " 'drawings',\n",
       " 'draws',\n",
       " 'shawl',\n",
       " 'shoulders',\n",
       " 'look',\n",
       " ...]"
      ]
     },
     "execution_count": 19,
     "metadata": {},
     "output_type": "execute_result"
    }
   ],
   "source": [
    "text_emma"
   ]
  },
  {
   "cell_type": "markdown",
   "metadata": {},
   "source": [
    "Ce programme calcule 3 statistiques pour chaque texte:\n",
    "<ul>\n",
    "    <li> Longueur moyenne de mots  </li>\n",
    "    <li> Longueur moyenne de phrases </li>\n",
    "    <li> Nombre moyen de fois où un mot est répété dans le texte: <b> score de diversité lexicale </b> </li>\n",
    "</ul>"
   ]
  },
  {
   "cell_type": "code",
   "execution_count": 20,
   "metadata": {},
   "outputs": [
    {
     "name": "stdout",
     "output_type": "stream",
     "text": [
      "austen-emma.txt 4 24 26\n",
      "austen-persuasion.txt 4 26 16\n",
      "austen-sense.txt 4 28 22\n",
      "bible-kjv.txt 4 33 79\n",
      "blake-poems.txt 4 19 5\n",
      "bryant-stories.txt 4 19 14\n",
      "burgess-busterbrown.txt 4 17 12\n",
      "carroll-alice.txt 4 20 12\n",
      "chesterton-ball.txt 4 20 11\n",
      "chesterton-brown.txt 4 22 11\n",
      "chesterton-thursday.txt 4 18 10\n",
      "edgeworth-parents.txt 4 20 24\n",
      "melville-moby_dick.txt 4 25 15\n",
      "milton-paradise.txt 4 52 10\n",
      "shakespeare-caesar.txt 4 11 8\n",
      "shakespeare-hamlet.txt 4 12 7\n",
      "shakespeare-macbeth.txt 4 12 6\n",
      "whitman-leaves.txt 4 36 12\n"
     ]
    }
   ],
   "source": [
    "for fileid in gutenberg.fileids():\n",
    "    num_chars = len(gutenberg.raw(fileid))\n",
    "    num_words = len(gutenberg.words(fileid))\n",
    "    num_sents = len(gutenberg.sents(fileid))\n",
    "    num_vocab = len(set([w.lower() for w in gutenberg.words(fileid)]))\n",
    "    print(fileid, int(num_chars/num_words), int(num_words/num_sents), int(num_words/num_vocab))"
   ]
  },
  {
   "cell_type": "markdown",
   "metadata": {},
   "source": [
    "On télécharge puis importe maintenant le corpus <b> nps_chat </b> organisé en 15 fichiers, où chaque fichier contients des centaines de posts (chats) collectés à une date donnée, pour un chatroom donné correspondant à une tranche d'âges (ados, 20, 30, 40 etc). Le nom du fichier contient la date, le chatroom, et le nombre de posts; e.g., 10-19-20s_706posts.xml contient 706 posts récupérés depuis le chatroom des gens âgés de la vingtaine le 10/19/2006."
   ]
  },
  {
   "cell_type": "code",
   "execution_count": 22,
   "metadata": {},
   "outputs": [
    {
     "name": "stderr",
     "output_type": "stream",
     "text": [
      "[nltk_data] Downloading package nps_chat to\n",
      "[nltk_data]     /home/bestprojectever/nltk_data...\n",
      "[nltk_data]   Package nps_chat is already up-to-date!\n"
     ]
    },
    {
     "data": {
      "text/plain": [
       "True"
      ]
     },
     "execution_count": 22,
     "metadata": {},
     "output_type": "execute_result"
    }
   ],
   "source": [
    "nltk.download(\"nps_chat\")"
   ]
  },
  {
   "cell_type": "code",
   "execution_count": 23,
   "metadata": {},
   "outputs": [],
   "source": [
    "from nltk.corpus import nps_chat"
   ]
  },
  {
   "cell_type": "code",
   "execution_count": 24,
   "metadata": {},
   "outputs": [],
   "source": [
    "chatroom = nps_chat.posts('10-19-20s_706posts.xml')"
   ]
  },
  {
   "cell_type": "code",
   "execution_count": 25,
   "metadata": {},
   "outputs": [
    {
     "data": {
      "text/plain": [
       "['i',\n",
       " 'do',\n",
       " \"n't\",\n",
       " 'want',\n",
       " 'hot',\n",
       " 'pics',\n",
       " 'of',\n",
       " 'a',\n",
       " 'female',\n",
       " ',',\n",
       " 'I',\n",
       " 'can',\n",
       " 'look',\n",
       " 'in',\n",
       " 'a',\n",
       " 'mirror',\n",
       " '.']"
      ]
     },
     "execution_count": 25,
     "metadata": {},
     "output_type": "execute_result"
    }
   ],
   "source": [
    "chatroom[123]"
   ]
  },
  {
   "cell_type": "code",
   "execution_count": 26,
   "metadata": {},
   "outputs": [],
   "source": [
    "chatroom_text = nltk.Text(chatroom[12])"
   ]
  },
  {
   "cell_type": "markdown",
   "metadata": {},
   "source": [
    "On télécharge puis importe maintenant le corpus Brown qui contient environ un million de mots en Anglais, créé en 1961 à la Brown University. Ce corpus contient des textes issus de 500 sources qui ont été catégorisées par genre (nouveauté, romance, religion, passe-temps, humour, aventures ...)"
   ]
  },
  {
   "cell_type": "code",
   "execution_count": 27,
   "metadata": {},
   "outputs": [],
   "source": [
    "from nltk.corpus import brown"
   ]
  },
  {
   "cell_type": "code",
   "execution_count": 28,
   "metadata": {},
   "outputs": [
    {
     "data": {
      "text/plain": [
       "['adventure',\n",
       " 'belles_lettres',\n",
       " 'editorial',\n",
       " 'fiction',\n",
       " 'government',\n",
       " 'hobbies',\n",
       " 'humor',\n",
       " 'learned',\n",
       " 'lore',\n",
       " 'mystery',\n",
       " 'news',\n",
       " 'religion',\n",
       " 'reviews',\n",
       " 'romance',\n",
       " 'science_fiction']"
      ]
     },
     "execution_count": 28,
     "metadata": {},
     "output_type": "execute_result"
    }
   ],
   "source": [
    "brown.categories()"
   ]
  },
  {
   "cell_type": "markdown",
   "metadata": {},
   "source": [
    "La ligne qui suit permet de renvoyer les mots de tous les textes correspondants à la catégorie <b> news </b>"
   ]
  },
  {
   "cell_type": "code",
   "execution_count": 96,
   "metadata": {},
   "outputs": [
    {
     "data": {
      "text/plain": [
       "['The', 'Fulton', 'County', 'Grand', 'Jury', 'said', ...]"
      ]
     },
     "execution_count": 96,
     "metadata": {},
     "output_type": "execute_result"
    }
   ],
   "source": [
    "brown.words(categories='news')"
   ]
  },
  {
   "cell_type": "markdown",
   "metadata": {},
   "source": [
    "La ligne qui suit permet de renvoyer les phrases de tous les textes correspondants aux catégories <b> news </b>, <b> editorial </b> et <b> reviews </b>"
   ]
  },
  {
   "cell_type": "code",
   "execution_count": null,
   "metadata": {},
   "outputs": [],
   "source": [
    "sentences = brown.sents(categories=['news', 'editorial', 'reviews'])"
   ]
  },
  {
   "cell_type": "code",
   "execution_count": 30,
   "metadata": {},
   "outputs": [
    {
     "data": {
      "text/plain": [
       "[['The', 'Fulton', 'County', 'Grand', 'Jury', 'said', 'Friday', 'an', 'investigation', 'of', \"Atlanta's\", 'recent', 'primary', 'election', 'produced', '``', 'no', 'evidence', \"''\", 'that', 'any', 'irregularities', 'took', 'place', '.'], ['The', 'jury', 'further', 'said', 'in', 'term-end', 'presentments', 'that', 'the', 'City', 'Executive', 'Committee', ',', 'which', 'had', 'over-all', 'charge', 'of', 'the', 'election', ',', '``', 'deserves', 'the', 'praise', 'and', 'thanks', 'of', 'the', 'City', 'of', 'Atlanta', \"''\", 'for', 'the', 'manner', 'in', 'which', 'the', 'election', 'was', 'conducted', '.'], ...]"
      ]
     },
     "execution_count": 30,
     "metadata": {},
     "output_type": "execute_result"
    }
   ],
   "source": [
    "sentences"
   ]
  },
  {
   "cell_type": "markdown",
   "metadata": {},
   "source": [
    "On va mettre à plat maintenant cette liste de listes pour avoir une liste d'une seule dimension avec tous les mots correspondants aux catégories précédentes"
   ]
  },
  {
   "cell_type": "code",
   "execution_count": 31,
   "metadata": {},
   "outputs": [],
   "source": [
    "flat_list = [item for sublist in sentences for item in sublist]"
   ]
  },
  {
   "cell_type": "code",
   "execution_count": 32,
   "metadata": {},
   "outputs": [],
   "source": [
    "brown_text = nltk.Text(flat_list)"
   ]
  },
  {
   "cell_type": "markdown",
   "metadata": {},
   "source": [
    "On calcule maintenant par exemple la fréquence de chaque mot dans cet ensemble de textes..."
   ]
  },
  {
   "cell_type": "code",
   "execution_count": 33,
   "metadata": {},
   "outputs": [],
   "source": [
    "fdist = FreqDist(brown_text)"
   ]
  },
  {
   "cell_type": "code",
   "execution_count": 34,
   "metadata": {},
   "outputs": [
    {
     "data": {
      "text/plain": [
       "FreqDist({'the': 11136, ',': 10272, '.': 8060, 'of': 6124, 'and': 4551, 'to': 4376, 'a': 3962, 'in': 3550, 'is': 1989, 'for': 1720, ...})"
      ]
     },
     "execution_count": 34,
     "metadata": {},
     "output_type": "execute_result"
    }
   ],
   "source": [
    "fdist"
   ]
  },
  {
   "cell_type": "markdown",
   "metadata": {},
   "source": [
    "Le corpus <b> udhr </b> contient la Déclaration Universelle des Droits de l'Homme en 300 languages."
   ]
  },
  {
   "cell_type": "code",
   "execution_count": 35,
   "metadata": {},
   "outputs": [
    {
     "name": "stderr",
     "output_type": "stream",
     "text": [
      "[nltk_data] Downloading package udhr to\n",
      "[nltk_data]     /home/bestprojectever/nltk_data...\n",
      "[nltk_data]   Package udhr is already up-to-date!\n"
     ]
    },
    {
     "data": {
      "text/plain": [
       "True"
      ]
     },
     "execution_count": 35,
     "metadata": {},
     "output_type": "execute_result"
    }
   ],
   "source": [
    "nltk.download('udhr')"
   ]
  },
  {
   "cell_type": "code",
   "execution_count": 36,
   "metadata": {},
   "outputs": [],
   "source": [
    "from nltk.corpus import udhr"
   ]
  },
  {
   "cell_type": "markdown",
   "metadata": {},
   "source": [
    "Voilà tous les mots de la déclaration en Allemand"
   ]
  },
  {
   "cell_type": "code",
   "execution_count": 38,
   "metadata": {},
   "outputs": [],
   "source": [
    "words = udhr.words('German_Deutsch-Latin1')"
   ]
  },
  {
   "cell_type": "code",
   "execution_count": 39,
   "metadata": {},
   "outputs": [
    {
     "data": {
      "text/plain": [
       "['Die', 'Allgemeine', 'Erklärung', 'der', ...]"
      ]
     },
     "execution_count": 39,
     "metadata": {},
     "output_type": "execute_result"
    }
   ],
   "source": [
    "words"
   ]
  },
  {
   "cell_type": "markdown",
   "metadata": {},
   "source": [
    "La méthode <b> raw() </b> du corpus permet de renvoyer le texte brut de la déclaration dans la langue passée en paramètre"
   ]
  },
  {
   "cell_type": "code",
   "execution_count": 40,
   "metadata": {},
   "outputs": [],
   "source": [
    "raw = udhr.raw('German_Deutsch-Latin1')"
   ]
  },
  {
   "cell_type": "markdown",
   "metadata": {},
   "source": [
    "Ci-dessous un graphique représentant les fréquences des 100 mots les plus fréqeunts de la déclaration en Allemand... ces mots sont ordonnés selon l'axe des abscisses du plus fréquent au moins fréquent..."
   ]
  },
  {
   "cell_type": "code",
   "execution_count": 41,
   "metadata": {},
   "outputs": [
    {
     "data": {
      "image/png": "[encoded data removed]",
      "text/plain": [
       "<Figure size 432x288 with 1 Axes>"
      ]
     },
     "metadata": {
      "needs_background": "light"
     },
     "output_type": "display_data"
    }
   ],
   "source": [
    "import matplotlib\n",
    "%matplotlib inline \n",
    "\n",
    "FreqDist(words[:100]).plot()"
   ]
  },
  {
   "cell_type": "markdown",
   "metadata": {},
   "source": [
    "NLTK inclut également des corpora qui sont des listes de mots (et non un texte) comme par exemple le corpus <b> stopwords </b> qui contient les mots fréquemment utilisés comme coordinateurs (articles, prépositions...) dans des langues différentes..."
   ]
  },
  {
   "cell_type": "code",
   "execution_count": 42,
   "metadata": {},
   "outputs": [],
   "source": [
    "from nltk.corpus import stopwords"
   ]
  },
  {
   "cell_type": "code",
   "execution_count": 43,
   "metadata": {},
   "outputs": [
    {
     "data": {
      "text/plain": [
       "['de',\n",
       " 'la',\n",
       " 'que',\n",
       " 'el',\n",
       " 'en',\n",
       " 'y',\n",
       " 'a',\n",
       " 'los',\n",
       " 'del',\n",
       " 'se',\n",
       " 'las',\n",
       " 'por',\n",
       " 'un',\n",
       " 'para',\n",
       " 'con',\n",
       " 'no',\n",
       " 'una',\n",
       " 'su',\n",
       " 'al',\n",
       " 'lo',\n",
       " 'como',\n",
       " 'más',\n",
       " 'pero',\n",
       " 'sus',\n",
       " 'le',\n",
       " 'ya',\n",
       " 'o',\n",
       " 'este',\n",
       " 'sí',\n",
       " 'porque',\n",
       " 'esta',\n",
       " 'entre',\n",
       " 'cuando',\n",
       " 'muy',\n",
       " 'sin',\n",
       " 'sobre',\n",
       " 'también',\n",
       " 'me',\n",
       " 'hasta',\n",
       " 'hay',\n",
       " 'donde',\n",
       " 'quien',\n",
       " 'desde',\n",
       " 'todo',\n",
       " 'nos',\n",
       " 'durante',\n",
       " 'todos',\n",
       " 'uno',\n",
       " 'les',\n",
       " 'ni',\n",
       " 'contra',\n",
       " 'otros',\n",
       " 'ese',\n",
       " 'eso',\n",
       " 'ante',\n",
       " 'ellos',\n",
       " 'e',\n",
       " 'esto',\n",
       " 'mí',\n",
       " 'antes',\n",
       " 'algunos',\n",
       " 'qué',\n",
       " 'unos',\n",
       " 'yo',\n",
       " 'otro',\n",
       " 'otras',\n",
       " 'otra',\n",
       " 'él',\n",
       " 'tanto',\n",
       " 'esa',\n",
       " 'estos',\n",
       " 'mucho',\n",
       " 'quienes',\n",
       " 'nada',\n",
       " 'muchos',\n",
       " 'cual',\n",
       " 'poco',\n",
       " 'ella',\n",
       " 'estar',\n",
       " 'estas',\n",
       " 'algunas',\n",
       " 'algo',\n",
       " 'nosotros',\n",
       " 'mi',\n",
       " 'mis',\n",
       " 'tú',\n",
       " 'te',\n",
       " 'ti',\n",
       " 'tu',\n",
       " 'tus',\n",
       " 'ellas',\n",
       " 'nosotras',\n",
       " 'vosostros',\n",
       " 'vosostras',\n",
       " 'os',\n",
       " 'mío',\n",
       " 'mía',\n",
       " 'míos',\n",
       " 'mías',\n",
       " 'tuyo',\n",
       " 'tuya',\n",
       " 'tuyos',\n",
       " 'tuyas',\n",
       " 'suyo',\n",
       " 'suya',\n",
       " 'suyos',\n",
       " 'suyas',\n",
       " 'nuestro',\n",
       " 'nuestra',\n",
       " 'nuestros',\n",
       " 'nuestras',\n",
       " 'vuestro',\n",
       " 'vuestra',\n",
       " 'vuestros',\n",
       " 'vuestras',\n",
       " 'esos',\n",
       " 'esas',\n",
       " 'estoy',\n",
       " 'estás',\n",
       " 'está',\n",
       " 'estamos',\n",
       " 'estáis',\n",
       " 'están',\n",
       " 'esté',\n",
       " 'estés',\n",
       " 'estemos',\n",
       " 'estéis',\n",
       " 'estén',\n",
       " 'estaré',\n",
       " 'estarás',\n",
       " 'estará',\n",
       " 'estaremos',\n",
       " 'estaréis',\n",
       " 'estarán',\n",
       " 'estaría',\n",
       " 'estarías',\n",
       " 'estaríamos',\n",
       " 'estaríais',\n",
       " 'estarían',\n",
       " 'estaba',\n",
       " 'estabas',\n",
       " 'estábamos',\n",
       " 'estabais',\n",
       " 'estaban',\n",
       " 'estuve',\n",
       " 'estuviste',\n",
       " 'estuvo',\n",
       " 'estuvimos',\n",
       " 'estuvisteis',\n",
       " 'estuvieron',\n",
       " 'estuviera',\n",
       " 'estuvieras',\n",
       " 'estuviéramos',\n",
       " 'estuvierais',\n",
       " 'estuvieran',\n",
       " 'estuviese',\n",
       " 'estuvieses',\n",
       " 'estuviésemos',\n",
       " 'estuvieseis',\n",
       " 'estuviesen',\n",
       " 'estando',\n",
       " 'estado',\n",
       " 'estada',\n",
       " 'estados',\n",
       " 'estadas',\n",
       " 'estad',\n",
       " 'he',\n",
       " 'has',\n",
       " 'ha',\n",
       " 'hemos',\n",
       " 'habéis',\n",
       " 'han',\n",
       " 'haya',\n",
       " 'hayas',\n",
       " 'hayamos',\n",
       " 'hayáis',\n",
       " 'hayan',\n",
       " 'habré',\n",
       " 'habrás',\n",
       " 'habrá',\n",
       " 'habremos',\n",
       " 'habréis',\n",
       " 'habrán',\n",
       " 'habría',\n",
       " 'habrías',\n",
       " 'habríamos',\n",
       " 'habríais',\n",
       " 'habrían',\n",
       " 'había',\n",
       " 'habías',\n",
       " 'habíamos',\n",
       " 'habíais',\n",
       " 'habían',\n",
       " 'hube',\n",
       " 'hubiste',\n",
       " 'hubo',\n",
       " 'hubimos',\n",
       " 'hubisteis',\n",
       " 'hubieron',\n",
       " 'hubiera',\n",
       " 'hubieras',\n",
       " 'hubiéramos',\n",
       " 'hubierais',\n",
       " 'hubieran',\n",
       " 'hubiese',\n",
       " 'hubieses',\n",
       " 'hubiésemos',\n",
       " 'hubieseis',\n",
       " 'hubiesen',\n",
       " 'habiendo',\n",
       " 'habido',\n",
       " 'habida',\n",
       " 'habidos',\n",
       " 'habidas',\n",
       " 'soy',\n",
       " 'eres',\n",
       " 'es',\n",
       " 'somos',\n",
       " 'sois',\n",
       " 'son',\n",
       " 'sea',\n",
       " 'seas',\n",
       " 'seamos',\n",
       " 'seáis',\n",
       " 'sean',\n",
       " 'seré',\n",
       " 'serás',\n",
       " 'será',\n",
       " 'seremos',\n",
       " 'seréis',\n",
       " 'serán',\n",
       " 'sería',\n",
       " 'serías',\n",
       " 'seríamos',\n",
       " 'seríais',\n",
       " 'serían',\n",
       " 'era',\n",
       " 'eras',\n",
       " 'éramos',\n",
       " 'erais',\n",
       " 'eran',\n",
       " 'fui',\n",
       " 'fuiste',\n",
       " 'fue',\n",
       " 'fuimos',\n",
       " 'fuisteis',\n",
       " 'fueron',\n",
       " 'fuera',\n",
       " 'fueras',\n",
       " 'fuéramos',\n",
       " 'fuerais',\n",
       " 'fueran',\n",
       " 'fuese',\n",
       " 'fueses',\n",
       " 'fuésemos',\n",
       " 'fueseis',\n",
       " 'fuesen',\n",
       " 'sintiendo',\n",
       " 'sentido',\n",
       " 'sentida',\n",
       " 'sentidos',\n",
       " 'sentidas',\n",
       " 'siente',\n",
       " 'sentid',\n",
       " 'tengo',\n",
       " 'tienes',\n",
       " 'tiene',\n",
       " 'tenemos',\n",
       " 'tenéis',\n",
       " 'tienen',\n",
       " 'tenga',\n",
       " 'tengas',\n",
       " 'tengamos',\n",
       " 'tengáis',\n",
       " 'tengan',\n",
       " 'tendré',\n",
       " 'tendrás',\n",
       " 'tendrá',\n",
       " 'tendremos',\n",
       " 'tendréis',\n",
       " 'tendrán',\n",
       " 'tendría',\n",
       " 'tendrías',\n",
       " 'tendríamos',\n",
       " 'tendríais',\n",
       " 'tendrían',\n",
       " 'tenía',\n",
       " 'tenías',\n",
       " 'teníamos',\n",
       " 'teníais',\n",
       " 'tenían',\n",
       " 'tuve',\n",
       " 'tuviste',\n",
       " 'tuvo',\n",
       " 'tuvimos',\n",
       " 'tuvisteis',\n",
       " 'tuvieron',\n",
       " 'tuviera',\n",
       " 'tuvieras',\n",
       " 'tuviéramos',\n",
       " 'tuvierais',\n",
       " 'tuvieran',\n",
       " 'tuviese',\n",
       " 'tuvieses',\n",
       " 'tuviésemos',\n",
       " 'tuvieseis',\n",
       " 'tuviesen',\n",
       " 'teniendo',\n",
       " 'tenido',\n",
       " 'tenida',\n",
       " 'tenidos',\n",
       " 'tenidas',\n",
       " 'tened']"
      ]
     },
     "execution_count": 43,
     "metadata": {},
     "output_type": "execute_result"
    }
   ],
   "source": [
    "stopwords.words('spanish')"
   ]
  },
  {
   "cell_type": "markdown",
   "metadata": {},
   "source": [
    "On va par exemple filtrer les mots de la déclaration des droits de l'homme en Anglais pour garder uniquement les mots importants (qui ne sont pas des stopwords)"
   ]
  },
  {
   "cell_type": "code",
   "execution_count": 44,
   "metadata": {},
   "outputs": [],
   "source": [
    "words = udhr.words('English-Latin1')"
   ]
  },
  {
   "cell_type": "code",
   "execution_count": 45,
   "metadata": {},
   "outputs": [
    {
     "data": {
      "text/plain": [
       "1781"
      ]
     },
     "execution_count": 45,
     "metadata": {},
     "output_type": "execute_result"
    }
   ],
   "source": [
    "len(words)"
   ]
  },
  {
   "cell_type": "code",
   "execution_count": 46,
   "metadata": {},
   "outputs": [],
   "source": [
    " words = [w for w in words if w not in stopwords.words('english')]"
   ]
  },
  {
   "cell_type": "code",
   "execution_count": 47,
   "metadata": {},
   "outputs": [
    {
     "data": {
      "text/plain": [
       "1044"
      ]
     },
     "execution_count": 47,
     "metadata": {},
     "output_type": "execute_result"
    }
   ],
   "source": [
    "len(words)"
   ]
  },
  {
   "cell_type": "code",
   "execution_count": 48,
   "metadata": {},
   "outputs": [],
   "source": [
    "text = nltk.Text(words)"
   ]
  },
  {
   "cell_type": "markdown",
   "metadata": {},
   "source": [
    "Voilà maintenant les mots les plus fréquents (et leur fréquences) dans la déclaration en dehors des stopwords et dont certains sont vraiment caractéristiques du thème de la déclaration (e.g. rights, equal, human, freedom etc)"
   ]
  },
  {
   "cell_type": "code",
   "execution_count": 49,
   "metadata": {},
   "outputs": [
    {
     "data": {
      "text/plain": [
       "FreqDist({',': 92, '.': 57, 'right': 32, 'Article': 29, 'Everyone': 29, 'shall': 26, 'rights': 16, 'equal': 11, 'human': 11, 'freedom': 11, ...})"
      ]
     },
     "execution_count": 49,
     "metadata": {},
     "output_type": "execute_result"
    }
   ],
   "source": [
    "FreqDist(text)"
   ]
  }
 ],
 "metadata": {
  "kernelspec": {
   "display_name": "Python 3",
   "language": "python",
   "name": "python3"
  },
  "language_info": {
   "codemirror_mode": {
    "name": "ipython",
    "version": 3
   },
   "file_extension": ".py",
   "mimetype": "text/x-python",
   "name": "python",
   "nbconvert_exporter": "python",
   "pygments_lexer": "ipython3",
   "version": "3.7.3"
  }
 },
 "nbformat": 4,
 "nbformat_minor": 2
}
